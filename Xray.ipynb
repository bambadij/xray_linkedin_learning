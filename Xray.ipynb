{
  "nbformat": 4,
  "nbformat_minor": 0,
  "metadata": {
    "colab": {
      "provenance": [],
      "authorship_tag": "ABX9TyNge+je9vEoIqNZ+JTIRuKc",
      "include_colab_link": true
    },
    "kernelspec": {
      "name": "python3",
      "display_name": "Python 3"
    },
    "language_info": {
      "name": "python"
    }
  },
  "cells": [
    {
      "cell_type": "markdown",
      "metadata": {
        "id": "view-in-github",
        "colab_type": "text"
      },
      "source": [
        "<a href=\"https://colab.research.google.com/github/bambadij/xray_linkedin_learning/blob/main/Xray.ipynb\" target=\"_parent\"><img src=\"https://colab.research.google.com/assets/colab-badge.svg\" alt=\"Open In Colab\"/></a>"
      ]
    },
    {
      "cell_type": "markdown",
      "source": [
        "SHOULDER iMPLANT X-Ray"
      ],
      "metadata": {
        "id": "mqfXf9aVLIdI"
      }
    },
    {
      "cell_type": "code",
      "execution_count": 2,
      "metadata": {
        "colab": {
          "base_uri": "https://localhost:8080/"
        },
        "id": "uhQuxzNJLCLb",
        "outputId": "ea5c8ae9-bffe-4d72-e644-748097b08792"
      },
      "outputs": [
        {
          "output_type": "stream",
          "name": "stdout",
          "text": [
            "--2023-10-02 12:31:08--  https://archive.ics.uci.edu/ml/machine-learning-databases/00517/data.zip\n",
            "Resolving archive.ics.uci.edu (archive.ics.uci.edu)... 128.195.10.252\n",
            "Connecting to archive.ics.uci.edu (archive.ics.uci.edu)|128.195.10.252|:443... connected.\n",
            "HTTP request sent, awaiting response... 200 OK\n",
            "Length: unspecified\n",
            "Saving to: ‘data.zip’\n",
            "\n",
            "data.zip                [   <=>              ]   6.01M  10.7MB/s    in 0.6s    \n",
            "\n",
            "2023-10-02 12:31:09 (10.7 MB/s) - ‘data.zip’ saved [6306316]\n",
            "\n"
          ]
        }
      ],
      "source": [
        "!wget https://archive.ics.uci.edu/ml/machine-learning-databases/00517/data.zip"
      ]
    },
    {
      "cell_type": "code",
      "source": [
        "!unzip /content/data.zip"
      ],
      "metadata": {
        "colab": {
          "base_uri": "https://localhost:8080/"
        },
        "id": "BJo9dDgALlZL",
        "outputId": "adf4539a-a4d6-48cd-d172-3aed7bcefcab"
      },
      "execution_count": 3,
      "outputs": [
        {
          "output_type": "stream",
          "name": "stdout",
          "text": [
            "Archive:  /content/data.zip\n",
            "   creating: data/\n",
            "  inflating: data/Tornier.53.jpg     \n",
            "  inflating: data/Cofield.61.jpg     \n",
            "  inflating: data/Tornier.60.jpg     \n",
            "  inflating: data/Depuy.15.jpg       \n",
            "  inflating: data/Depuy.147.jpg      \n",
            "  inflating: data/Zimmer.123.jpg     \n",
            "  inflating: data/Zimmer.134.jpg     \n",
            "  inflating: data/Cofield.40.jpg     \n",
            "  inflating: data/Cofield.8.jpg      \n",
            "  inflating: data/Depuy.42.jpg       \n",
            "  inflating: data/Depuy.295.jpg      \n",
            "  inflating: data/Tornier.45.jpg     \n",
            "  inflating: data/Depuy.123.jpg      \n",
            "  inflating: data/Zimmer.34.jpg      \n",
            "  inflating: data/Depuy.166.jpg      \n",
            "  inflating: data/Depuy.249.jpg      \n",
            "  inflating: data/Tornier.59.jpg     \n",
            "  inflating: data/Cofield.52.jpg     \n",
            "  inflating: data/Zimmer.86.jpg      \n",
            "  inflating: data/Zimmer.8.jpg       \n",
            "  inflating: data/Depuy.280.jpg      \n",
            "  inflating: data/Depuy.264.jpg      \n",
            "  inflating: data/Depuy.36.jpg       \n",
            "  inflating: data/Depuy.180.jpg      \n",
            "  inflating: data/Depuy.140.jpg      \n",
            "  inflating: data/Depuy.185.jpg      \n",
            "  inflating: data/Zimmer.70.jpg      \n",
            "  inflating: data/Zimmer.79.jpg      \n",
            "  inflating: data/Depuy.2.jpg        \n",
            "  inflating: data/Depuy.259.jpg      \n",
            "  inflating: data/Cofield.16.jpg     \n",
            "  inflating: data/Tornier.43.jpg     \n",
            "  inflating: data/Zimmer.121.jpg     \n",
            "  inflating: data/Zimmer.129.jpg     \n",
            "  inflating: data/Depuy.288.jpg      \n",
            "  inflating: data/Depuy.5.jpg        \n",
            "  inflating: data/Zimmer.50.jpg      \n",
            "  inflating: data/Zimmer.82.jpg      \n",
            "  inflating: data/Depuy.1.jpg        \n",
            "  inflating: data/Depuy.88.jpg       \n",
            "  inflating: data/Tornier.41.jpg     \n",
            "  inflating: data/Depuy.204.jpg      \n",
            "  inflating: data/Depuy.119.jpg      \n",
            "  inflating: data/Cofield.67.jpg     \n",
            "  inflating: data/Depuy.33.jpg       \n",
            "  inflating: data/Tornier.51.jpg     \n",
            "  inflating: data/Depuy.265.jpg      \n",
            "  inflating: data/Depuy.117.jpg      \n",
            "  inflating: data/Tornier.71.jpg     \n",
            "  inflating: data/Zimmer.93.jpg      \n",
            "  inflating: data/Zimmer.7.jpg       \n",
            "  inflating: data/Depuy.162.jpg      \n",
            "  inflating: data/Depuy.139.jpg      \n",
            "  inflating: data/Zimmer.45.jpg      \n",
            "  inflating: data/Zimmer.98.jpg      \n",
            "  inflating: data/Tornier.12.jpg     \n",
            "  inflating: data/Depuy.178.jpg      \n",
            "  inflating: data/Depuy.216.jpg      \n",
            "  inflating: data/Depuy.143.jpg      \n",
            "  inflating: data/Depuy.52.jpg       \n",
            "  inflating: data/Depuy.214.jpg      \n",
            "  inflating: data/Zimmer.46.jpg      \n",
            "  inflating: data/Depuy.22.jpg       \n",
            "  inflating: data/Depuy.261.jpg      \n",
            "  inflating: data/Zimmer.61.jpg      \n",
            "  inflating: data/Depuy.258.jpg      \n",
            "  inflating: data/Depuy.289.jpg      \n",
            "  inflating: data/Cofield.83.jpg     \n",
            "  inflating: data/Depuy.146.jpg      \n",
            "  inflating: data/Depuy.114.jpg      \n",
            "  inflating: data/Depuy.98.jpg       \n",
            "  inflating: data/Depuy.153.jpg      \n",
            "  inflating: data/Tornier.4.jpg      \n",
            "  inflating: data/Depuy.145.jpg      \n",
            "  inflating: data/Cofield.4.jpg      \n",
            "  inflating: data/Depuy.290.jpg      \n",
            "  inflating: data/Zimmer.69.jpg      \n",
            "  inflating: data/Tornier.6.jpg      \n",
            "  inflating: data/Zimmer.63.jpg      \n",
            "  inflating: data/Depuy.90.jpg       \n",
            "  inflating: data/Cofield.55.jpg     \n",
            "  inflating: data/Depuy.160.jpg      \n",
            "  inflating: data/Zimmer.38.jpg      \n",
            "  inflating: data/Cofield.51.jpg     \n",
            "  inflating: data/Tornier.57.jpg     \n",
            "  inflating: data/Cofield.38.jpg     \n",
            "  inflating: data/Depuy.292.jpg      \n",
            "  inflating: data/Zimmer.142.jpg     \n",
            "  inflating: data/Tornier.54.jpg     \n",
            "  inflating: data/Zimmer.135.jpg     \n",
            "  inflating: data/Depuy.174.jpg      \n",
            "  inflating: data/Depuy.69.jpg       \n",
            "  inflating: data/Depuy.107.jpg      \n",
            "  inflating: data/Depuy.170.jpg      \n",
            "  inflating: data/Cofield.34.jpg     \n",
            "  inflating: data/Zimmer.56.jpg      \n",
            "  inflating: data/Cofield.22.jpg     \n",
            "  inflating: data/Cofield.10.jpg     \n",
            "  inflating: data/Depuy.55.jpg       \n",
            "  inflating: data/Zimmer.96.jpg      \n",
            "  inflating: data/Depuy.189.jpg      \n",
            "  inflating: data/Depuy.87.jpg       \n",
            "  inflating: data/Depuy.89.jpg       \n",
            "  inflating: data/Cofield.15.jpg     \n",
            "  inflating: data/Depuy.20.jpg       \n",
            "  inflating: data/Zimmer.100.jpg     \n",
            "  inflating: data/Zimmer.32.jpg      \n",
            "  inflating: data/Tornier.17.jpg     \n",
            "  inflating: data/Depuy.235.jpg      \n",
            "  inflating: data/Cofield.49.jpg     \n",
            "  inflating: data/Depuy.58.jpg       \n",
            "  inflating: data/Depuy.46.jpg       \n",
            "  inflating: data/Depuy.111.jpg      \n",
            "  inflating: data/Depuy.205.jpg      \n",
            "  inflating: data/Cofield.47.jpg     \n",
            "  inflating: data/Depuy.80.jpg       \n",
            "  inflating: data/Zimmer.117.jpg     \n",
            "  inflating: data/Depuy.50.jpg       \n",
            "  inflating: data/Cofield.62.jpg     \n",
            "  inflating: data/Depuy.240.jpg      \n",
            "  inflating: data/Depuy.101.jpg      \n",
            "  inflating: data/Zimmer.21.jpg      \n",
            "  inflating: data/Depuy.105.jpg      \n",
            "  inflating: data/Tornier.11.jpg     \n",
            "  inflating: data/Cofield.9.jpg      \n",
            "  inflating: data/Cofield.24.jpg     \n",
            "  inflating: data/Zimmer.10.jpg      \n",
            "  inflating: data/Tornier.37.jpg     \n",
            "  inflating: data/Zimmer.27.jpg      \n",
            "  inflating: data/Depuy.247.jpg      \n",
            "  inflating: data/Depuy.272.jpg      \n",
            "  inflating: data/Depuy.49.jpg       \n",
            "  inflating: data/Cofield.42.jpg     \n",
            "  inflating: data/Tornier.47.jpg     \n",
            "  inflating: data/Zimmer.95.jpg      \n",
            "  inflating: data/Zimmer.44.jpg      \n",
            "  inflating: data/Depuy.35.jpg       \n",
            "  inflating: data/Zimmer.88.jpg      \n",
            "  inflating: data/Zimmer.145.jpg     \n",
            "  inflating: data/Zimmer.99.jpg      \n",
            "  inflating: data/Zimmer.15.jpg      \n",
            "  inflating: data/Tornier.27.jpg     \n",
            "  inflating: data/Depuy.179.jpg      \n",
            "  inflating: data/Depuy.221.jpg      \n",
            "  inflating: data/Cofield.65.jpg     \n",
            "  inflating: data/Depuy.218.jpg      \n",
            "  inflating: data/Zimmer.59.jpg      \n",
            "  inflating: data/Depuy.65.jpg       \n",
            "  inflating: data/Cofield.32.jpg     \n",
            "  inflating: data/Depuy.67.jpg       \n",
            "  inflating: data/Tornier.31.jpg     \n",
            "  inflating: data/Tornier.3.jpg      \n",
            "  inflating: data/Depuy.233.jpg      \n",
            "  inflating: data/Depuy.207.jpg      \n",
            "  inflating: data/Tornier.64.jpg     \n",
            "  inflating: data/Depuy.239.jpg      \n",
            "  inflating: data/Depuy.27.jpg       \n",
            "  inflating: data/Tornier.10.jpg     \n",
            "  inflating: data/Depuy.77.jpg       \n",
            "  inflating: data/Zimmer.113.jpg     \n",
            "  inflating: data/Depuy.66.jpg       \n",
            "  inflating: data/Zimmer.131.jpg     \n",
            "  inflating: data/Zimmer.90.jpg      \n",
            "  inflating: data/Depuy.155.jpg      \n",
            "  inflating: data/Cofield.85.jpg     \n",
            "  inflating: data/Zimmer.17.jpg      \n",
            "  inflating: data/Zimmer.11.jpg      \n",
            "  inflating: data/Tornier.2.jpg      \n",
            "  inflating: data/Zimmer.85.jpg      \n",
            "  inflating: data/Tornier.56.jpg     \n",
            "  inflating: data/Cofield.56.jpg     \n",
            "  inflating: data/Depuy.57.jpg       \n",
            "  inflating: data/Tornier.36.jpg     \n",
            "  inflating: data/Cofield.19.jpg     \n",
            "  inflating: data/Zimmer.64.jpg      \n",
            "  inflating: data/Depuy.39.jpg       \n",
            "  inflating: data/Depuy.30.jpg       \n",
            "  inflating: data/Depuy.128.jpg      \n",
            "  inflating: data/Depuy.3.jpg        \n",
            "  inflating: data/Cofield.70.jpg     \n",
            "  inflating: data/Depuy.193.jpg      \n",
            "  inflating: data/Depuy.12.jpg       \n",
            "  inflating: data/Tornier.55.jpg     \n",
            "  inflating: data/Depuy.173.jpg      \n",
            "  inflating: data/Depuy.187.jpg      \n",
            "  inflating: data/Zimmer.81.jpg      \n",
            "  inflating: data/Depuy.121.jpg      \n",
            "  inflating: data/Cofield.39.jpg     \n",
            "  inflating: data/Depuy.212.jpg      \n",
            "  inflating: data/Cofield.33.jpg     \n",
            "  inflating: data/Depuy.130.jpg      \n",
            "  inflating: data/Cofield.43.jpg     \n",
            "  inflating: data/Depuy.17.jpg       \n",
            "  inflating: data/Depuy.99.jpg       \n",
            "  inflating: data/Depuy.116.jpg      \n",
            "  inflating: data/Cofield.59.jpg     \n",
            "  inflating: data/Depuy.151.jpg      \n",
            "  inflating: data/Depuy.131.jpg      \n",
            "  inflating: data/Cofield.35.jpg     \n",
            "  inflating: data/Tornier.18.jpg     \n",
            "  inflating: data/Zimmer.41.jpg      \n",
            "  inflating: data/Cofield.45.jpg     \n",
            "  inflating: data/Zimmer.102.jpg     \n",
            "  inflating: data/Depuy.21.jpg       \n",
            "  inflating: data/Depuy.291.jpg      \n",
            "  inflating: data/Depuy.82.jpg       \n",
            "  inflating: data/Depuy.175.jpg      \n",
            "  inflating: data/Depuy.54.jpg       \n",
            "  inflating: data/Depuy.257.jpg      \n",
            "  inflating: data/Depuy.108.jpg      \n",
            "  inflating: data/Cofield.75.jpg     \n",
            "  inflating: data/Depuy.14.jpg       \n",
            "  inflating: data/Cofield.36.jpg     \n",
            "  inflating: data/Depuy.293.jpg      \n",
            "  inflating: data/Depuy.92.jpg       \n",
            "  inflating: data/Depuy.242.jpg      \n",
            "  inflating: data/Zimmer.3.jpg       \n",
            "  inflating: data/Zimmer.48.jpg      \n",
            "  inflating: data/Zimmer.124.jpg     \n",
            "  inflating: data/Depuy.96.jpg       \n",
            "  inflating: data/Tornier.50.jpg     \n",
            "  inflating: data/Tornier.15.jpg     \n",
            "  inflating: data/Depuy.165.jpg      \n",
            "  inflating: data/Depuy.260.jpg      \n",
            "  inflating: data/Depuy.120.jpg      \n",
            "  inflating: data/Tornier.29.jpg     \n",
            "  inflating: data/Depuy.150.jpg      \n",
            "  inflating: data/Cofield.84.jpg     \n",
            "  inflating: data/Zimmer.9.jpg       \n",
            "  inflating: data/Cofield.76.jpg     \n",
            "  inflating: data/Depuy.274.jpg      \n",
            "  inflating: data/Depuy.211.jpg      \n",
            "  inflating: data/Depuy.7.jpg        \n",
            "  inflating: data/Zimmer.18.jpg      \n",
            "  inflating: data/Zimmer.151.jpg     \n",
            "  inflating: data/Depuy.182.jpg      \n",
            "  inflating: data/Depuy.159.jpg      \n",
            "  inflating: data/Depuy.132.jpg      \n",
            "  inflating: data/Zimmer.108.jpg     \n",
            "  inflating: data/Depuy.156.jpg      \n",
            "  inflating: data/Depuy.118.jpg      \n",
            "  inflating: data/Depuy.220.jpg      \n",
            "  inflating: data/Depuy.188.jpg      \n",
            "  inflating: data/Depuy.6.jpg        \n",
            "  inflating: data/Depuy.169.jpg      \n",
            "  inflating: data/Zimmer.80.jpg      \n",
            "  inflating: data/Depuy.256.jpg      \n",
            "  inflating: data/Cofield.74.jpg     \n",
            "  inflating: data/Cofield.77.jpg     \n",
            "  inflating: data/Depuy.4.jpg        \n",
            "  inflating: data/Depuy.85.jpg       \n",
            "  inflating: data/Depuy.38.jpg       \n",
            "  inflating: data/Zimmer.57.jpg      \n",
            "  inflating: data/Cofield.44.jpg     \n",
            "  inflating: data/Depuy.124.jpg      \n",
            "  inflating: data/Zimmer.74.jpg      \n",
            "  inflating: data/Depuy.93.jpg       \n",
            "  inflating: data/Depuy.176.jpg      \n",
            "  inflating: data/Depuy.209.jpg      \n",
            "  inflating: data/Zimmer.143.jpg     \n",
            "  inflating: data/Zimmer.4.jpg       \n",
            "  inflating: data/Zimmer.33.jpg      \n",
            "  inflating: data/Tornier.62.jpg     \n",
            "  inflating: data/Cofield.12.jpg     \n",
            "  inflating: data/Depuy.203.jpg      \n",
            "  inflating: data/Zimmer.66.jpg      \n",
            "  inflating: data/Zimmer.147.jpg     \n",
            "  inflating: data/Zimmer.77.jpg      \n",
            "  inflating: data/Depuy.74.jpg       \n",
            "  inflating: data/Depuy.164.jpg      \n",
            "  inflating: data/Depuy.281.jpg      \n",
            "  inflating: data/Zimmer.71.jpg      \n",
            "  inflating: data/Tornier.5.jpg      \n",
            "  inflating: data/Depuy.106.jpg      \n",
            "  inflating: data/Depuy.9.jpg        \n",
            "  inflating: data/Depuy.217.jpg      \n",
            "  inflating: data/Depuy.208.jpg      \n",
            "  inflating: data/Zimmer.68.jpg      \n",
            "  inflating: data/Depuy.133.jpg      \n",
            "  inflating: data/Depuy.177.jpg      \n",
            "  inflating: data/Depuy.186.jpg      \n",
            "  inflating: data/Zimmer.40.jpg      \n",
            "  inflating: data/Depuy.79.jpg       \n",
            "  inflating: data/Cofield.2.jpg      \n",
            "  inflating: data/Cofield.30.jpg     \n",
            "  inflating: data/Zimmer.103.jpg     \n",
            "  inflating: data/Zimmer.139.jpg     \n",
            "  inflating: data/Zimmer.106.jpg     \n",
            "  inflating: data/Cofield.48.jpg     \n",
            "  inflating: data/Zimmer.52.jpg      \n",
            "  inflating: data/Zimmer.83.jpg      \n",
            "  inflating: data/Depuy.278.jpg      \n",
            "  inflating: data/Tornier.61.jpg     \n",
            "  inflating: data/Tornier.20.jpg     \n",
            "  inflating: data/Tornier.52.jpg     \n",
            "  inflating: data/Cofield.18.jpg     \n",
            "  inflating: data/Depuy.18.jpg       \n",
            "  inflating: data/Tornier.21.jpg     \n",
            "  inflating: data/Zimmer.75.jpg      \n",
            "  inflating: data/Depuy.231.jpg      \n",
            "  inflating: data/Tornier.67.jpg     \n",
            "  inflating: data/Tornier.19.jpg     \n",
            "  inflating: data/Depuy.269.jpg      \n",
            "  inflating: data/Depuy.100.jpg      \n",
            "  inflating: data/Depuy.248.jpg      \n",
            "  inflating: data/Zimmer.76.jpg      \n",
            "  inflating: data/Tornier.33.jpg     \n",
            "  inflating: data/Zimmer.148.jpg     \n",
            "  inflating: data/Depuy.201.jpg      \n",
            "  inflating: data/Zimmer.26.jpg      \n",
            "  inflating: data/Zimmer.119.jpg     \n",
            "  inflating: data/Zimmer.112.jpg     \n",
            "  inflating: data/Zimmer.65.jpg      \n",
            "  inflating: data/Cofield.66.jpg     \n",
            "  inflating: data/Cofield.86.jpg     \n",
            "  inflating: data/Cofield.23.jpg     \n",
            "  inflating: data/Cofield.1.jpg      \n",
            "  inflating: data/Zimmer.109.jpg     \n",
            "  inflating: data/Cofield.58.jpg     \n",
            "  inflating: data/Depuy.48.jpg       \n",
            "  inflating: data/Depuy.56.jpg       \n",
            "  inflating: data/Depuy.279.jpg      \n",
            "  inflating: data/Zimmer.43.jpg      \n",
            "  inflating: data/Depuy.273.jpg      \n",
            "  inflating: data/Tornier.8.jpg      \n",
            "  inflating: data/Zimmer.128.jpg     \n",
            "  inflating: data/Zimmer.51.jpg      \n",
            "  inflating: data/Tornier.28.jpg     \n",
            "  inflating: data/Tornier.69.jpg     \n",
            "  inflating: data/Depuy.268.jpg      \n",
            "  inflating: data/Depuy.230.jpg      \n",
            "  inflating: data/Depuy.32.jpg       \n",
            "  inflating: data/Tornier.1.jpg      \n",
            "  inflating: data/Depuy.24.jpg       \n",
            "  inflating: data/Zimmer.94.jpg      \n",
            "  inflating: data/Depuy.184.jpg      \n",
            "  inflating: data/Tornier.65.jpg     \n",
            "  inflating: data/Depuy.81.jpg       \n",
            "  inflating: data/Depuy.183.jpg      \n",
            "  inflating: data/Tornier.26.jpg     \n",
            "  inflating: data/Depuy.109.jpg      \n",
            "  inflating: data/Depuy.97.jpg       \n",
            "  inflating: data/Tornier.39.jpg     \n",
            "  inflating: data/Depuy.37.jpg       \n",
            "  inflating: data/Cofield.28.jpg     \n",
            "  inflating: data/Zimmer.118.jpg     \n",
            "  inflating: data/Depuy.206.jpg      \n",
            "  inflating: data/Depuy.112.jpg      \n",
            "  inflating: data/Depuy.142.jpg      \n",
            "  inflating: data/Depuy.44.jpg       \n",
            "  inflating: data/Cofield.73.jpg     \n",
            "  inflating: data/Zimmer.62.jpg      \n",
            "  inflating: data/Zimmer.55.jpg      \n",
            "  inflating: data/Zimmer.149.jpg     \n",
            "  inflating: data/Zimmer.12.jpg      \n",
            "  inflating: data/Depuy.29.jpg       \n",
            "  inflating: data/Tornier.40.jpg     \n",
            "  inflating: data/Tornier.58.jpg     \n",
            "  inflating: data/Tornier.9.jpg      \n",
            "  inflating: data/Tornier.38.jpg     \n",
            "  inflating: data/Depuy.138.jpg      \n",
            "  inflating: data/Cofield.11.jpg     \n",
            "  inflating: data/Tornier.66.jpg     \n",
            "  inflating: data/Zimmer.23.jpg      \n",
            "  inflating: data/Cofield.13.jpg     \n",
            "  inflating: data/Tornier.44.jpg     \n",
            "  inflating: data/Depuy.40.jpg       \n",
            "  inflating: data/Tornier.16.jpg     \n",
            "  inflating: data/Depuy.161.jpg      \n",
            "  inflating: data/Tornier.42.jpg     \n",
            "  inflating: data/Zimmer.42.jpg      \n",
            "  inflating: data/Depuy.78.jpg       \n",
            "  inflating: data/Depuy.254.jpg      \n",
            "  inflating: data/Depuy.64.jpg       \n",
            "  inflating: data/Depuy.137.jpg      \n",
            "  inflating: data/Depuy.168.jpg      \n",
            "  inflating: data/Cofield.6.jpg      \n",
            "  inflating: data/Depuy.95.jpg       \n",
            "  inflating: data/Zimmer.35.jpg      \n",
            "  inflating: data/Depuy.72.jpg       \n",
            "  inflating: data/Depuy.202.jpg      \n",
            "  inflating: data/Depuy.135.jpg      \n",
            "  inflating: data/Depuy.34.jpg       \n",
            "  inflating: data/Tornier.25.jpg     \n",
            "  inflating: data/Tornier.63.jpg     \n",
            "  inflating: data/Depuy.251.jpg      \n",
            "  inflating: data/Depuy.63.jpg       \n",
            "  inflating: data/Cofield.72.jpg     \n",
            "  inflating: data/Depuy.250.jpg      \n",
            "  inflating: data/Depuy.94.jpg       \n",
            "  inflating: data/Depuy.113.jpg      \n",
            "  inflating: data/Depuy.246.jpg      \n",
            "  inflating: data/Depuy.102.jpg      \n",
            "  inflating: data/Zimmer.136.jpg     \n",
            "  inflating: data/Cofield.80.jpg     \n",
            "  inflating: data/Zimmer.87.jpg      \n",
            "  inflating: data/Depuy.129.jpg      \n",
            "  inflating: data/Tornier.48.jpg     \n",
            "  inflating: data/Depuy.275.jpg      \n",
            "  inflating: data/Depuy.61.jpg       \n",
            "  inflating: data/Cofield.63.jpg     \n",
            "  inflating: data/Zimmer.67.jpg      \n",
            "  inflating: data/Depuy.141.jpg      \n",
            "  inflating: data/Zimmer.89.jpg      \n",
            "  inflating: data/Depuy.83.jpg       \n",
            "  inflating: data/Depuy.234.jpg      \n",
            "  inflating: data/Depuy.294.jpg      \n",
            "  inflating: data/Depuy.223.jpg      \n",
            "  inflating: data/Depuy.136.jpg      \n",
            "  inflating: data/Depuy.122.jpg      \n",
            "  inflating: data/Cofield.60.jpg     \n",
            "  inflating: data/Cofield.29.jpg     \n",
            "  inflating: data/Tornier.34.jpg     \n",
            "  inflating: data/Zimmer.29.jpg      \n",
            "  inflating: data/Zimmer.150.jpg     \n",
            "  inflating: data/Zimmer.78.jpg      \n",
            "  inflating: data/Depuy.237.jpg      \n",
            "  inflating: data/Zimmer.37.jpg      \n",
            "  inflating: data/Depuy.229.jpg      \n",
            "  inflating: data/Zimmer.16.jpg      \n",
            "  inflating: data/Depuy.285.jpg      \n",
            "  inflating: data/Depuy.225.jpg      \n",
            "  inflating: data/Cofield.21.jpg     \n",
            "  inflating: data/Depuy.68.jpg       \n",
            "  inflating: data/Zimmer.140.jpg     \n",
            "  inflating: data/Cofield.26.jpg     \n",
            "  inflating: data/Zimmer.110.jpg     \n",
            "  inflating: data/Cofield.78.jpg     \n",
            "  inflating: data/Depuy.172.jpg      \n",
            "  inflating: data/Depuy.115.jpg      \n",
            "  inflating: data/Zimmer.122.jpg     \n",
            "  inflating: data/Depuy.287.jpg      \n",
            "  inflating: data/Zimmer.13.jpg      \n",
            "  inflating: data/Zimmer.101.jpg     \n",
            "  inflating: data/Zimmer.84.jpg      \n",
            "  inflating: data/Cofield.27.jpg     \n",
            "  inflating: data/Depuy.199.jpg      \n",
            "  inflating: data/Depuy.227.jpg      \n",
            "  inflating: data/Tornier.35.jpg     \n",
            "  inflating: data/Zimmer.115.jpg     \n",
            "  inflating: data/Depuy.277.jpg      \n",
            "  inflating: data/Tornier.30.jpg     \n",
            "  inflating: data/Depuy.31.jpg       \n",
            "  inflating: data/Depuy.41.jpg       \n",
            "  inflating: data/Tornier.32.jpg     \n",
            "  inflating: data/Zimmer.137.jpg     \n",
            "  inflating: data/Cofield.3.jpg      \n",
            "  inflating: data/Depuy.23.jpg       \n",
            "  inflating: data/Zimmer.72.jpg      \n",
            "  inflating: data/Zimmer.111.jpg     \n",
            "  inflating: data/Depuy.195.jpg      \n",
            "  inflating: data/Zimmer.53.jpg      \n",
            "  inflating: data/Depuy.284.jpg      \n",
            "  inflating: data/Cofield.71.jpg     \n",
            "  inflating: data/Depuy.253.jpg      \n",
            "  inflating: data/Depuy.238.jpg      \n",
            "  inflating: data/Depuy.215.jpg      \n",
            "  inflating: data/Depuy.26.jpg       \n",
            "  inflating: data/Cofield.50.jpg     \n",
            "  inflating: data/Depuy.236.jpg      \n",
            "  inflating: data/Depuy.267.jpg      \n",
            "  inflating: data/Depuy.71.jpg       \n",
            "  inflating: data/Depuy.126.jpg      \n",
            "  inflating: data/Depuy.181.jpg      \n",
            "  inflating: data/Depuy.76.jpg       \n",
            "  inflating: data/Cofield.87.jpg     \n",
            "  inflating: data/Depuy.51.jpg       \n",
            "  inflating: data/Zimmer.28.jpg      \n",
            "  inflating: data/Depuy.158.jpg      \n",
            "  inflating: data/Zimmer.104.jpg     \n",
            "  inflating: data/Depuy.262.jpg      \n",
            "  inflating: data/Depuy.190.jpg      \n",
            "  inflating: data/Depuy.104.jpg      \n",
            "  inflating: data/Depuy.228.jpg      \n",
            "  inflating: data/Zimmer.1.jpg       \n",
            "  inflating: data/Cofield.64.jpg     \n",
            "  inflating: data/Cofield.7.jpg      \n",
            "  inflating: data/Depuy.73.jpg       \n",
            "  inflating: data/Depuy.127.jpg      \n",
            "  inflating: data/Depuy.62.jpg       \n",
            "  inflating: data/Zimmer.116.jpg     \n",
            "  inflating: data/Depuy.276.jpg      \n",
            "  inflating: data/Depuy.8.jpg        \n",
            "  inflating: data/Tornier.7.jpg      \n",
            "  inflating: data/Zimmer.5.jpg       \n",
            "  inflating: data/Depuy.282.jpg      \n",
            "  inflating: data/Cofield.31.jpg     \n",
            "  inflating: data/Depuy.224.jpg      \n",
            "  inflating: data/Depuy.232.jpg      \n",
            "  inflating: data/Depuy.45.jpg       \n",
            "  inflating: data/Depuy.286.jpg      \n",
            "  inflating: data/Depuy.157.jpg      \n",
            "  inflating: data/Tornier.49.jpg     \n",
            "  inflating: data/Depuy.222.jpg      \n",
            "  inflating: data/Cofield.79.jpg     \n",
            "  inflating: data/Depuy.198.jpg      \n",
            "  inflating: data/Zimmer.19.jpg      \n",
            "  inflating: data/Depuy.197.jpg      \n",
            "  inflating: data/Depuy.200.jpg      \n",
            "  inflating: data/Cofield.14.jpg     \n",
            "  inflating: data/Depuy.110.jpg      \n",
            "  inflating: data/Depuy.191.jpg      \n",
            "  inflating: data/Depuy.152.jpg      \n",
            "  inflating: data/Depuy.252.jpg      \n",
            "  inflating: data/Cofield.37.jpg     \n",
            "  inflating: data/Depuy.213.jpg      \n",
            "  inflating: data/Zimmer.22.jpg      \n",
            "  inflating: data/Zimmer.14.jpg      \n",
            "  inflating: data/Depuy.171.jpg      \n",
            "  inflating: data/Zimmer.97.jpg      \n",
            "  inflating: data/Zimmer.127.jpg     \n",
            "  inflating: data/Depuy.25.jpg       \n",
            "  inflating: data/Depuy.255.jpg      \n",
            "  inflating: data/Zimmer.54.jpg      \n",
            "  inflating: data/Depuy.167.jpg      \n",
            "  inflating: data/Zimmer.146.jpg     \n",
            "  inflating: data/Depuy.263.jpg      \n",
            "  inflating: data/Zimmer.73.jpg      \n",
            "  inflating: data/Depuy.144.jpg      \n",
            "  inflating: data/Depuy.241.jpg      \n",
            "  inflating: data/Zimmer.2.jpg       \n",
            "  inflating: data/Zimmer.126.jpg     \n",
            "  inflating: data/Cofield.82.jpg     \n",
            "  inflating: data/Tornier.13.jpg     \n",
            "  inflating: data/Zimmer.58.jpg      \n",
            "  inflating: data/Tornier.46.jpg     \n",
            "  inflating: data/Zimmer.125.jpg     \n",
            "  inflating: data/Depuy.16.jpg       \n",
            "  inflating: data/Depuy.84.jpg       \n",
            "  inflating: data/Cofield.20.jpg     \n",
            "  inflating: data/Cofield.57.jpg     \n",
            "  inflating: data/Zimmer.36.jpg      \n",
            "  inflating: data/Depuy.266.jpg      \n",
            "  inflating: data/Tornier.22.jpg     \n",
            "  inflating: data/Depuy.70.jpg       \n",
            "  inflating: data/Zimmer.24.jpg      \n",
            "  inflating: data/Depuy.91.jpg       \n",
            "  inflating: data/Depuy.270.jpg      \n",
            "  inflating: data/Depuy.28.jpg       \n",
            "  inflating: data/Depuy.11.jpg       \n",
            "  inflating: data/Zimmer.132.jpg     \n",
            "  inflating: data/Zimmer.25.jpg      \n",
            "  inflating: data/Depuy.134.jpg      \n",
            "  inflating: data/Depuy.194.jpg      \n",
            "  inflating: data/Zimmer.47.jpg      \n",
            "  inflating: data/Tornier.14.jpg     \n",
            "  inflating: data/Depuy.243.jpg      \n",
            "  inflating: data/Depuy.103.jpg      \n",
            "  inflating: data/Cofield.68.jpg     \n",
            "  inflating: data/Zimmer.31.jpg      \n",
            "  inflating: data/Cofield.88.jpg     \n",
            "  inflating: data/Depuy.163.jpg      \n",
            "  inflating: data/Depuy.47.jpg       \n",
            "  inflating: data/Zimmer.130.jpg     \n",
            "  inflating: data/Cofield.17.jpg     \n",
            "  inflating: data/Depuy.125.jpg      \n",
            "  inflating: data/Depuy.19.jpg       \n",
            "  inflating: data/Depuy.149.jpg      \n",
            "  inflating: data/Zimmer.30.jpg      \n",
            "  inflating: data/Depuy.13.jpg       \n",
            "  inflating: data/Depuy.245.jpg      \n",
            "  inflating: data/Depuy.53.jpg       \n",
            "  inflating: data/Depuy.154.jpg      \n",
            "  inflating: data/Depuy.226.jpg      \n",
            "  inflating: data/Depuy.43.jpg       \n",
            "  inflating: data/Cofield.5.jpg      \n",
            "  inflating: data/Zimmer.144.jpg     \n",
            "  inflating: data/Zimmer.92.jpg      \n",
            "  inflating: data/Zimmer.6.jpg       \n",
            "  inflating: data/Depuy.271.jpg      \n",
            "  inflating: data/Zimmer.20.jpg      \n",
            "  inflating: data/Depuy.75.jpg       \n",
            "  inflating: data/Zimmer.120.jpg     \n",
            "  inflating: data/Depuy.244.jpg      \n",
            "  inflating: data/Depuy.60.jpg       \n",
            "  inflating: data/Tornier.23.jpg     \n",
            "  inflating: data/Zimmer.107.jpg     \n",
            "  inflating: data/Depuy.192.jpg      \n",
            "  inflating: data/Depuy.210.jpg      \n",
            "  inflating: data/Zimmer.39.jpg      \n",
            "  inflating: data/Cofield.46.jpg     \n",
            "  inflating: data/Zimmer.138.jpg     \n",
            "  inflating: data/Tornier.24.jpg     \n",
            "  inflating: data/Tornier.68.jpg     \n",
            "  inflating: data/Depuy.283.jpg      \n",
            "  inflating: data/Zimmer.133.jpg     \n",
            "  inflating: data/Cofield.25.jpg     \n",
            "  inflating: data/Zimmer.91.jpg      \n",
            "  inflating: data/Depuy.10.jpg       \n",
            "  inflating: data/Zimmer.114.jpg     \n",
            "  inflating: data/Zimmer.141.jpg     \n",
            "  inflating: data/Zimmer.49.jpg      \n",
            "  inflating: data/Depuy.59.jpg       \n",
            "  inflating: data/Depuy.86.jpg       \n",
            "  inflating: data/Depuy.148.jpg      \n",
            "  inflating: data/Depuy.196.jpg      \n",
            "  inflating: data/Tornier.70.jpg     \n"
          ]
        }
      ]
    },
    {
      "cell_type": "code",
      "source": [
        "# Database connections\n",
        "import warnings\n",
        "warnings.filterwarnings('ignore')\n",
        "\n",
        "# Data handling\n",
        "import pandas as pd\n",
        "pd.set_option('display.max_columns', None)\n",
        "import openpyxl\n",
        "import numpy as np\n",
        "\n",
        "# Vizualisation (Matplotlib, Plotly, Seaborn, etc. )\n",
        "import seaborn as sns\n",
        "sns.set_style('whitegrid')\n",
        "import matplotlib.pyplot as plt\n",
        "import matplotlib.ticker as ticker\n",
        "import plotly.express as px\n",
        "import plotly.graph_objects as go\n",
        "import plotly.io as pio\n",
        "import plotly.colors as colors\n",
        "from plotly.subplots import make_subplots\n",
        "import PIL\n",
        "import tensorflow as tf\n",
        "from  tensorflow import keras\n",
        "from  tensorflow.keras import layers\n",
        "from  tensorflow.keras.models import Sequential\n",
        "\n",
        "from keras.applications.resnet_v2 import ResNet50V2\n",
        "from keras.layers import Dropout,Dense,Input\n",
        "from keras.models import Model,load_model\n",
        "\n",
        "\n",
        "\n",
        "# EDA (pandas-profiling, etc. )\n",
        "from statsmodels.genmod.families import Binomial\n",
        "from scipy.stats import pointbiserialr\n",
        "\n",
        "# Feature Processing (Scikit-learn processing, etc. )\n",
        "from sklearn.model_selection import train_test_split\n",
        "from sklearn.preprocessing import LabelEncoder\n",
        "from sklearn.metrics import classification_report,confusion_matrix\n",
        "\n",
        "# Machine Learning (Scikit-learn Estimators, Catboost, LightGBM, etc. )\n",
        "...\n",
        "\n",
        "# Hyperparameters Fine-tuning (Scikit-learn hp search, cross-validation, etc. )\n",
        "...\n",
        "\n",
        "# Other packages\n",
        "import os, pickle"
      ],
      "metadata": {
        "id": "oqFhS7SNL7oK"
      },
      "execution_count": 4,
      "outputs": []
    },
    {
      "cell_type": "code",
      "source": [
        "ls /content/data | wc < -1"
      ],
      "metadata": {
        "colab": {
          "base_uri": "https://localhost:8080/"
        },
        "id": "hOcsw0hGO0x9",
        "outputId": "bbceadaf-06cb-426a-f2ad-905b9dc47bf1"
      },
      "execution_count": 5,
      "outputs": [
        {
          "output_type": "stream",
          "name": "stdout",
          "text": [
            "/bin/bash: line 1: -1: No such file or directory\n"
          ]
        }
      ]
    },
    {
      "cell_type": "code",
      "source": [
        "dir= '/content/data'"
      ],
      "metadata": {
        "id": "_YHkeeUQPXPR"
      },
      "execution_count": 6,
      "outputs": []
    },
    {
      "cell_type": "code",
      "source": [
        "Cofield_filepaths= [dir+'/' +file_name for file_name in os.listdir(dir) if 'Cofield' in file_name]\n",
        "Depuy_filepaths= [dir+'/' +file_name for file_name in os.listdir(dir) if 'Depuy' in file_name]\n",
        "Tornier_filepaths= [dir+'/' +file_name for file_name in os.listdir(dir) if 'Tornier' in file_name]\n",
        "Zimmer_filepaths= [dir+'/' +file_name for file_name in os.listdir(dir) if 'Zimmer' in file_name]"
      ],
      "metadata": {
        "id": "Tic679W6Pdrt"
      },
      "execution_count": 7,
      "outputs": []
    },
    {
      "cell_type": "code",
      "source": [
        "print(Cofield_filepaths)\n",
        "print(Depuy_filepaths)\n",
        "print(Tornier_filepaths)\n",
        "print(Cofield_filepaths)"
      ],
      "metadata": {
        "colab": {
          "base_uri": "https://localhost:8080/"
        },
        "id": "ztMaTmZPRKLV",
        "outputId": "7677cd82-8915-4e23-a717-9ec54df292ef"
      },
      "execution_count": 8,
      "outputs": [
        {
          "output_type": "stream",
          "name": "stdout",
          "text": [
            "['/content/data/Cofield.61.jpg', '/content/data/Cofield.79.jpg', '/content/data/Cofield.48.jpg', '/content/data/Cofield.67.jpg', '/content/data/Cofield.37.jpg', '/content/data/Cofield.29.jpg', '/content/data/Cofield.47.jpg', '/content/data/Cofield.72.jpg', '/content/data/Cofield.40.jpg', '/content/data/Cofield.11.jpg', '/content/data/Cofield.25.jpg', '/content/data/Cofield.68.jpg', '/content/data/Cofield.16.jpg', '/content/data/Cofield.59.jpg', '/content/data/Cofield.4.jpg', '/content/data/Cofield.42.jpg', '/content/data/Cofield.43.jpg', '/content/data/Cofield.46.jpg', '/content/data/Cofield.83.jpg', '/content/data/Cofield.76.jpg', '/content/data/Cofield.50.jpg', '/content/data/Cofield.80.jpg', '/content/data/Cofield.28.jpg', '/content/data/Cofield.19.jpg', '/content/data/Cofield.34.jpg', '/content/data/Cofield.26.jpg', '/content/data/Cofield.87.jpg', '/content/data/Cofield.51.jpg', '/content/data/Cofield.44.jpg', '/content/data/Cofield.56.jpg', '/content/data/Cofield.38.jpg', '/content/data/Cofield.74.jpg', '/content/data/Cofield.13.jpg', '/content/data/Cofield.66.jpg', '/content/data/Cofield.73.jpg', '/content/data/Cofield.75.jpg', '/content/data/Cofield.63.jpg', '/content/data/Cofield.30.jpg', '/content/data/Cofield.10.jpg', '/content/data/Cofield.12.jpg', '/content/data/Cofield.8.jpg', '/content/data/Cofield.78.jpg', '/content/data/Cofield.32.jpg', '/content/data/Cofield.18.jpg', '/content/data/Cofield.3.jpg', '/content/data/Cofield.7.jpg', '/content/data/Cofield.1.jpg', '/content/data/Cofield.62.jpg', '/content/data/Cofield.70.jpg', '/content/data/Cofield.15.jpg', '/content/data/Cofield.14.jpg', '/content/data/Cofield.2.jpg', '/content/data/Cofield.22.jpg', '/content/data/Cofield.21.jpg', '/content/data/Cofield.82.jpg', '/content/data/Cofield.24.jpg', '/content/data/Cofield.17.jpg', '/content/data/Cofield.27.jpg', '/content/data/Cofield.39.jpg', '/content/data/Cofield.45.jpg', '/content/data/Cofield.85.jpg', '/content/data/Cofield.33.jpg', '/content/data/Cofield.31.jpg', '/content/data/Cofield.5.jpg', '/content/data/Cofield.84.jpg', '/content/data/Cofield.60.jpg', '/content/data/Cofield.65.jpg', '/content/data/Cofield.35.jpg', '/content/data/Cofield.55.jpg', '/content/data/Cofield.57.jpg', '/content/data/Cofield.20.jpg', '/content/data/Cofield.49.jpg', '/content/data/Cofield.58.jpg', '/content/data/Cofield.6.jpg', '/content/data/Cofield.9.jpg', '/content/data/Cofield.64.jpg', '/content/data/Cofield.36.jpg', '/content/data/Cofield.77.jpg', '/content/data/Cofield.86.jpg', '/content/data/Cofield.71.jpg', '/content/data/Cofield.23.jpg', '/content/data/Cofield.88.jpg', '/content/data/Cofield.52.jpg']\n",
            "['/content/data/Depuy.244.jpg', '/content/data/Depuy.53.jpg', '/content/data/Depuy.178.jpg', '/content/data/Depuy.18.jpg', '/content/data/Depuy.107.jpg', '/content/data/Depuy.28.jpg', '/content/data/Depuy.289.jpg', '/content/data/Depuy.168.jpg', '/content/data/Depuy.138.jpg', '/content/data/Depuy.228.jpg', '/content/data/Depuy.186.jpg', '/content/data/Depuy.137.jpg', '/content/data/Depuy.216.jpg', '/content/data/Depuy.73.jpg', '/content/data/Depuy.222.jpg', '/content/data/Depuy.230.jpg', '/content/data/Depuy.254.jpg', '/content/data/Depuy.176.jpg', '/content/data/Depuy.154.jpg', '/content/data/Depuy.153.jpg', '/content/data/Depuy.101.jpg', '/content/data/Depuy.160.jpg', '/content/data/Depuy.12.jpg', '/content/data/Depuy.252.jpg', '/content/data/Depuy.9.jpg', '/content/data/Depuy.120.jpg', '/content/data/Depuy.269.jpg', '/content/data/Depuy.50.jpg', '/content/data/Depuy.51.jpg', '/content/data/Depuy.97.jpg', '/content/data/Depuy.139.jpg', '/content/data/Depuy.169.jpg', '/content/data/Depuy.39.jpg', '/content/data/Depuy.10.jpg', '/content/data/Depuy.114.jpg', '/content/data/Depuy.163.jpg', '/content/data/Depuy.258.jpg', '/content/data/Depuy.262.jpg', '/content/data/Depuy.293.jpg', '/content/data/Depuy.69.jpg', '/content/data/Depuy.100.jpg', '/content/data/Depuy.57.jpg', '/content/data/Depuy.99.jpg', '/content/data/Depuy.21.jpg', '/content/data/Depuy.3.jpg', '/content/data/Depuy.172.jpg', '/content/data/Depuy.245.jpg', '/content/data/Depuy.158.jpg', '/content/data/Depuy.209.jpg', '/content/data/Depuy.4.jpg', '/content/data/Depuy.134.jpg', '/content/data/Depuy.60.jpg', '/content/data/Depuy.201.jpg', '/content/data/Depuy.65.jpg', '/content/data/Depuy.206.jpg', '/content/data/Depuy.111.jpg', '/content/data/Depuy.127.jpg', '/content/data/Depuy.61.jpg', '/content/data/Depuy.170.jpg', '/content/data/Depuy.24.jpg', '/content/data/Depuy.286.jpg', '/content/data/Depuy.129.jpg', '/content/data/Depuy.63.jpg', '/content/data/Depuy.224.jpg', '/content/data/Depuy.195.jpg', '/content/data/Depuy.103.jpg', '/content/data/Depuy.83.jpg', '/content/data/Depuy.284.jpg', '/content/data/Depuy.72.jpg', '/content/data/Depuy.119.jpg', '/content/data/Depuy.175.jpg', '/content/data/Depuy.112.jpg', '/content/data/Depuy.64.jpg', '/content/data/Depuy.157.jpg', '/content/data/Depuy.225.jpg', '/content/data/Depuy.80.jpg', '/content/data/Depuy.67.jpg', '/content/data/Depuy.108.jpg', '/content/data/Depuy.55.jpg', '/content/data/Depuy.226.jpg', '/content/data/Depuy.56.jpg', '/content/data/Depuy.240.jpg', '/content/data/Depuy.237.jpg', '/content/data/Depuy.278.jpg', '/content/data/Depuy.260.jpg', '/content/data/Depuy.179.jpg', '/content/data/Depuy.257.jpg', '/content/data/Depuy.255.jpg', '/content/data/Depuy.256.jpg', '/content/data/Depuy.26.jpg', '/content/data/Depuy.40.jpg', '/content/data/Depuy.275.jpg', '/content/data/Depuy.229.jpg', '/content/data/Depuy.290.jpg', '/content/data/Depuy.29.jpg', '/content/data/Depuy.149.jpg', '/content/data/Depuy.84.jpg', '/content/data/Depuy.121.jpg', '/content/data/Depuy.283.jpg', '/content/data/Depuy.193.jpg', '/content/data/Depuy.246.jpg', '/content/data/Depuy.238.jpg', '/content/data/Depuy.32.jpg', '/content/data/Depuy.125.jpg', '/content/data/Depuy.94.jpg', '/content/data/Depuy.277.jpg', '/content/data/Depuy.167.jpg', '/content/data/Depuy.270.jpg', '/content/data/Depuy.130.jpg', '/content/data/Depuy.75.jpg', '/content/data/Depuy.241.jpg', '/content/data/Depuy.90.jpg', '/content/data/Depuy.184.jpg', '/content/data/Depuy.196.jpg', '/content/data/Depuy.200.jpg', '/content/data/Depuy.115.jpg', '/content/data/Depuy.36.jpg', '/content/data/Depuy.30.jpg', '/content/data/Depuy.6.jpg', '/content/data/Depuy.250.jpg', '/content/data/Depuy.79.jpg', '/content/data/Depuy.173.jpg', '/content/data/Depuy.248.jpg', '/content/data/Depuy.20.jpg', '/content/data/Depuy.183.jpg', '/content/data/Depuy.171.jpg', '/content/data/Depuy.8.jpg', '/content/data/Depuy.52.jpg', '/content/data/Depuy.232.jpg', '/content/data/Depuy.92.jpg', '/content/data/Depuy.19.jpg', '/content/data/Depuy.155.jpg', '/content/data/Depuy.124.jpg', '/content/data/Depuy.76.jpg', '/content/data/Depuy.123.jpg', '/content/data/Depuy.191.jpg', '/content/data/Depuy.165.jpg', '/content/data/Depuy.203.jpg', '/content/data/Depuy.272.jpg', '/content/data/Depuy.126.jpg', '/content/data/Depuy.150.jpg', '/content/data/Depuy.233.jpg', '/content/data/Depuy.294.jpg', '/content/data/Depuy.273.jpg', '/content/data/Depuy.161.jpg', '/content/data/Depuy.199.jpg', '/content/data/Depuy.189.jpg', '/content/data/Depuy.147.jpg', '/content/data/Depuy.33.jpg', '/content/data/Depuy.221.jpg', '/content/data/Depuy.239.jpg', '/content/data/Depuy.227.jpg', '/content/data/Depuy.291.jpg', '/content/data/Depuy.82.jpg', '/content/data/Depuy.34.jpg', '/content/data/Depuy.188.jpg', '/content/data/Depuy.16.jpg', '/content/data/Depuy.42.jpg', '/content/data/Depuy.118.jpg', '/content/data/Depuy.217.jpg', '/content/data/Depuy.266.jpg', '/content/data/Depuy.285.jpg', '/content/data/Depuy.215.jpg', '/content/data/Depuy.43.jpg', '/content/data/Depuy.58.jpg', '/content/data/Depuy.105.jpg', '/content/data/Depuy.156.jpg', '/content/data/Depuy.220.jpg', '/content/data/Depuy.194.jpg', '/content/data/Depuy.71.jpg', '/content/data/Depuy.288.jpg', '/content/data/Depuy.265.jpg', '/content/data/Depuy.38.jpg', '/content/data/Depuy.22.jpg', '/content/data/Depuy.280.jpg', '/content/data/Depuy.208.jpg', '/content/data/Depuy.180.jpg', '/content/data/Depuy.98.jpg', '/content/data/Depuy.166.jpg', '/content/data/Depuy.117.jpg', '/content/data/Depuy.205.jpg', '/content/data/Depuy.62.jpg', '/content/data/Depuy.74.jpg', '/content/data/Depuy.2.jpg', '/content/data/Depuy.292.jpg', '/content/data/Depuy.207.jpg', '/content/data/Depuy.177.jpg', '/content/data/Depuy.35.jpg', '/content/data/Depuy.143.jpg', '/content/data/Depuy.110.jpg', '/content/data/Depuy.77.jpg', '/content/data/Depuy.91.jpg', '/content/data/Depuy.247.jpg', '/content/data/Depuy.59.jpg', '/content/data/Depuy.253.jpg', '/content/data/Depuy.142.jpg', '/content/data/Depuy.128.jpg', '/content/data/Depuy.5.jpg', '/content/data/Depuy.261.jpg', '/content/data/Depuy.214.jpg', '/content/data/Depuy.276.jpg', '/content/data/Depuy.202.jpg', '/content/data/Depuy.104.jpg', '/content/data/Depuy.271.jpg', '/content/data/Depuy.192.jpg', '/content/data/Depuy.13.jpg', '/content/data/Depuy.268.jpg', '/content/data/Depuy.242.jpg', '/content/data/Depuy.152.jpg', '/content/data/Depuy.14.jpg', '/content/data/Depuy.95.jpg', '/content/data/Depuy.136.jpg', '/content/data/Depuy.85.jpg', '/content/data/Depuy.25.jpg', '/content/data/Depuy.47.jpg', '/content/data/Depuy.23.jpg', '/content/data/Depuy.213.jpg', '/content/data/Depuy.182.jpg', '/content/data/Depuy.267.jpg', '/content/data/Depuy.78.jpg', '/content/data/Depuy.211.jpg', '/content/data/Depuy.181.jpg', '/content/data/Depuy.235.jpg', '/content/data/Depuy.212.jpg', '/content/data/Depuy.274.jpg', '/content/data/Depuy.87.jpg', '/content/data/Depuy.11.jpg', '/content/data/Depuy.132.jpg', '/content/data/Depuy.66.jpg', '/content/data/Depuy.49.jpg', '/content/data/Depuy.259.jpg', '/content/data/Depuy.236.jpg', '/content/data/Depuy.81.jpg', '/content/data/Depuy.159.jpg', '/content/data/Depuy.45.jpg', '/content/data/Depuy.88.jpg', '/content/data/Depuy.249.jpg', '/content/data/Depuy.145.jpg', '/content/data/Depuy.140.jpg', '/content/data/Depuy.54.jpg', '/content/data/Depuy.106.jpg', '/content/data/Depuy.41.jpg', '/content/data/Depuy.122.jpg', '/content/data/Depuy.282.jpg', '/content/data/Depuy.109.jpg', '/content/data/Depuy.93.jpg', '/content/data/Depuy.174.jpg', '/content/data/Depuy.204.jpg', '/content/data/Depuy.102.jpg', '/content/data/Depuy.46.jpg', '/content/data/Depuy.223.jpg', '/content/data/Depuy.263.jpg', '/content/data/Depuy.234.jpg', '/content/data/Depuy.162.jpg', '/content/data/Depuy.197.jpg', '/content/data/Depuy.231.jpg', '/content/data/Depuy.148.jpg', '/content/data/Depuy.279.jpg', '/content/data/Depuy.131.jpg', '/content/data/Depuy.44.jpg', '/content/data/Depuy.86.jpg', '/content/data/Depuy.37.jpg', '/content/data/Depuy.251.jpg', '/content/data/Depuy.146.jpg', '/content/data/Depuy.7.jpg', '/content/data/Depuy.185.jpg', '/content/data/Depuy.243.jpg', '/content/data/Depuy.164.jpg', '/content/data/Depuy.1.jpg', '/content/data/Depuy.295.jpg', '/content/data/Depuy.27.jpg', '/content/data/Depuy.133.jpg', '/content/data/Depuy.31.jpg', '/content/data/Depuy.70.jpg', '/content/data/Depuy.264.jpg', '/content/data/Depuy.68.jpg', '/content/data/Depuy.218.jpg', '/content/data/Depuy.287.jpg', '/content/data/Depuy.198.jpg', '/content/data/Depuy.144.jpg', '/content/data/Depuy.187.jpg', '/content/data/Depuy.96.jpg', '/content/data/Depuy.17.jpg', '/content/data/Depuy.210.jpg', '/content/data/Depuy.151.jpg', '/content/data/Depuy.48.jpg', '/content/data/Depuy.89.jpg', '/content/data/Depuy.281.jpg', '/content/data/Depuy.15.jpg', '/content/data/Depuy.113.jpg', '/content/data/Depuy.135.jpg', '/content/data/Depuy.116.jpg', '/content/data/Depuy.141.jpg', '/content/data/Depuy.190.jpg']\n",
            "['/content/data/Tornier.14.jpg', '/content/data/Tornier.46.jpg', '/content/data/Tornier.66.jpg', '/content/data/Tornier.57.jpg', '/content/data/Tornier.7.jpg', '/content/data/Tornier.67.jpg', '/content/data/Tornier.39.jpg', '/content/data/Tornier.17.jpg', '/content/data/Tornier.63.jpg', '/content/data/Tornier.29.jpg', '/content/data/Tornier.51.jpg', '/content/data/Tornier.3.jpg', '/content/data/Tornier.1.jpg', '/content/data/Tornier.37.jpg', '/content/data/Tornier.68.jpg', '/content/data/Tornier.43.jpg', '/content/data/Tornier.33.jpg', '/content/data/Tornier.24.jpg', '/content/data/Tornier.56.jpg', '/content/data/Tornier.18.jpg', '/content/data/Tornier.25.jpg', '/content/data/Tornier.32.jpg', '/content/data/Tornier.13.jpg', '/content/data/Tornier.22.jpg', '/content/data/Tornier.71.jpg', '/content/data/Tornier.11.jpg', '/content/data/Tornier.21.jpg', '/content/data/Tornier.70.jpg', '/content/data/Tornier.8.jpg', '/content/data/Tornier.16.jpg', '/content/data/Tornier.9.jpg', '/content/data/Tornier.30.jpg', '/content/data/Tornier.10.jpg', '/content/data/Tornier.20.jpg', '/content/data/Tornier.19.jpg', '/content/data/Tornier.31.jpg', '/content/data/Tornier.53.jpg', '/content/data/Tornier.23.jpg', '/content/data/Tornier.42.jpg', '/content/data/Tornier.40.jpg', '/content/data/Tornier.26.jpg', '/content/data/Tornier.41.jpg', '/content/data/Tornier.62.jpg', '/content/data/Tornier.61.jpg', '/content/data/Tornier.58.jpg', '/content/data/Tornier.54.jpg', '/content/data/Tornier.38.jpg', '/content/data/Tornier.12.jpg', '/content/data/Tornier.52.jpg', '/content/data/Tornier.44.jpg', '/content/data/Tornier.47.jpg', '/content/data/Tornier.4.jpg', '/content/data/Tornier.34.jpg', '/content/data/Tornier.48.jpg', '/content/data/Tornier.6.jpg', '/content/data/Tornier.60.jpg', '/content/data/Tornier.59.jpg', '/content/data/Tornier.2.jpg', '/content/data/Tornier.28.jpg', '/content/data/Tornier.65.jpg', '/content/data/Tornier.55.jpg', '/content/data/Tornier.35.jpg', '/content/data/Tornier.27.jpg', '/content/data/Tornier.64.jpg', '/content/data/Tornier.5.jpg', '/content/data/Tornier.45.jpg', '/content/data/Tornier.36.jpg', '/content/data/Tornier.15.jpg', '/content/data/Tornier.69.jpg', '/content/data/Tornier.49.jpg', '/content/data/Tornier.50.jpg']\n",
            "['/content/data/Cofield.61.jpg', '/content/data/Cofield.79.jpg', '/content/data/Cofield.48.jpg', '/content/data/Cofield.67.jpg', '/content/data/Cofield.37.jpg', '/content/data/Cofield.29.jpg', '/content/data/Cofield.47.jpg', '/content/data/Cofield.72.jpg', '/content/data/Cofield.40.jpg', '/content/data/Cofield.11.jpg', '/content/data/Cofield.25.jpg', '/content/data/Cofield.68.jpg', '/content/data/Cofield.16.jpg', '/content/data/Cofield.59.jpg', '/content/data/Cofield.4.jpg', '/content/data/Cofield.42.jpg', '/content/data/Cofield.43.jpg', '/content/data/Cofield.46.jpg', '/content/data/Cofield.83.jpg', '/content/data/Cofield.76.jpg', '/content/data/Cofield.50.jpg', '/content/data/Cofield.80.jpg', '/content/data/Cofield.28.jpg', '/content/data/Cofield.19.jpg', '/content/data/Cofield.34.jpg', '/content/data/Cofield.26.jpg', '/content/data/Cofield.87.jpg', '/content/data/Cofield.51.jpg', '/content/data/Cofield.44.jpg', '/content/data/Cofield.56.jpg', '/content/data/Cofield.38.jpg', '/content/data/Cofield.74.jpg', '/content/data/Cofield.13.jpg', '/content/data/Cofield.66.jpg', '/content/data/Cofield.73.jpg', '/content/data/Cofield.75.jpg', '/content/data/Cofield.63.jpg', '/content/data/Cofield.30.jpg', '/content/data/Cofield.10.jpg', '/content/data/Cofield.12.jpg', '/content/data/Cofield.8.jpg', '/content/data/Cofield.78.jpg', '/content/data/Cofield.32.jpg', '/content/data/Cofield.18.jpg', '/content/data/Cofield.3.jpg', '/content/data/Cofield.7.jpg', '/content/data/Cofield.1.jpg', '/content/data/Cofield.62.jpg', '/content/data/Cofield.70.jpg', '/content/data/Cofield.15.jpg', '/content/data/Cofield.14.jpg', '/content/data/Cofield.2.jpg', '/content/data/Cofield.22.jpg', '/content/data/Cofield.21.jpg', '/content/data/Cofield.82.jpg', '/content/data/Cofield.24.jpg', '/content/data/Cofield.17.jpg', '/content/data/Cofield.27.jpg', '/content/data/Cofield.39.jpg', '/content/data/Cofield.45.jpg', '/content/data/Cofield.85.jpg', '/content/data/Cofield.33.jpg', '/content/data/Cofield.31.jpg', '/content/data/Cofield.5.jpg', '/content/data/Cofield.84.jpg', '/content/data/Cofield.60.jpg', '/content/data/Cofield.65.jpg', '/content/data/Cofield.35.jpg', '/content/data/Cofield.55.jpg', '/content/data/Cofield.57.jpg', '/content/data/Cofield.20.jpg', '/content/data/Cofield.49.jpg', '/content/data/Cofield.58.jpg', '/content/data/Cofield.6.jpg', '/content/data/Cofield.9.jpg', '/content/data/Cofield.64.jpg', '/content/data/Cofield.36.jpg', '/content/data/Cofield.77.jpg', '/content/data/Cofield.86.jpg', '/content/data/Cofield.71.jpg', '/content/data/Cofield.23.jpg', '/content/data/Cofield.88.jpg', '/content/data/Cofield.52.jpg']\n"
          ]
        }
      ]
    },
    {
      "cell_type": "code",
      "source": [
        "print(len(Cofield_filepaths))\n",
        "print(len(Depuy_filepaths))\n",
        "print(len(Tornier_filepaths))\n",
        "print(len(Zimmer_filepaths))"
      ],
      "metadata": {
        "colab": {
          "base_uri": "https://localhost:8080/"
        },
        "id": "3lsOxnuaRkIS",
        "outputId": "a4e9362c-a601-4162-eda2-0a403ee353a5"
      },
      "execution_count": 9,
      "outputs": [
        {
          "output_type": "stream",
          "name": "stdout",
          "text": [
            "83\n",
            "294\n",
            "71\n",
            "149\n"
          ]
        }
      ]
    },
    {
      "cell_type": "markdown",
      "source": [
        "Split our data on train and test set data"
      ],
      "metadata": {
        "id": "pPQ6M8aFSSUA"
      }
    },
    {
      "cell_type": "code",
      "source": [
        "Cofiels_file_paths_train = Cofield_filepaths[:int(len(Cofield_filepaths)*0.8)]\n",
        "Cofiels_file_paths_test = Cofield_filepaths[:int(len(Cofield_filepaths)*0.2)]\n",
        "Depuy_filepaths_train = Depuy_filepaths[:int(len(Depuy_filepaths)*0.8)]\n",
        "Depuy_filepaths_test = Depuy_filepaths[:int(len(Depuy_filepaths)*0.2)]\n",
        "Tornier_filepaths_train = Tornier_filepaths[:int(len(Tornier_filepaths)*0.8)]\n",
        "Tornier_filepaths_test= Tornier_filepaths[:int(len(Tornier_filepaths)*0.2)]\n",
        "Zimmer_filepaths_train = Zimmer_filepaths[:int(len(Zimmer_filepaths)*0.8)]\n",
        "Zimmer_filepaths_test= Zimmer_filepaths[:int(len(Zimmer_filepaths)*0.2)]"
      ],
      "metadata": {
        "id": "W0MFo4mjSMIN"
      },
      "execution_count": 10,
      "outputs": []
    },
    {
      "cell_type": "code",
      "source": [
        "print(len(Cofiels_file_paths_train))\n",
        "print(len(Cofiels_file_paths_test))\n",
        "print(len(Depuy_filepaths_train))\n",
        "print(len(Depuy_filepaths_test))"
      ],
      "metadata": {
        "colab": {
          "base_uri": "https://localhost:8080/"
        },
        "id": "U3Me1bI8TsWy",
        "outputId": "e790fb58-f991-4f02-944f-f7ed3d2f8f91"
      },
      "execution_count": 11,
      "outputs": [
        {
          "output_type": "stream",
          "name": "stdout",
          "text": [
            "66\n",
            "16\n",
            "235\n",
            "58\n"
          ]
        }
      ]
    },
    {
      "cell_type": "markdown",
      "source": [
        "Now create a train set data combine all data train and test set data"
      ],
      "metadata": {
        "id": "s_NVdJJTUn3p"
      }
    },
    {
      "cell_type": "code",
      "source": [
        "train_data_file_path = Cofiels_file_paths_train + Depuy_filepaths_train +Tornier_filepaths_train+Zimmer_filepaths_train\n",
        "test_data_file_path = Cofiels_file_paths_test + Depuy_filepaths_test +Tornier_filepaths_test +Zimmer_filepaths_test\n"
      ],
      "metadata": {
        "id": "CGw5flfoUx81"
      },
      "execution_count": 12,
      "outputs": []
    },
    {
      "cell_type": "code",
      "source": [
        "train_data_label =[]\n",
        "for filepath in train_data_file_path:\n",
        "  label = filepath.split('.')[0].rsplit('/')[3]\n",
        "  train_data_label.append(label)"
      ],
      "metadata": {
        "id": "nIuJOUCWVqwx"
      },
      "execution_count": 13,
      "outputs": []
    },
    {
      "cell_type": "code",
      "source": [
        "print(len(train_data_label))\n",
        "print(train_data_label)"
      ],
      "metadata": {
        "colab": {
          "base_uri": "https://localhost:8080/"
        },
        "id": "GlmMf6A6xwzD",
        "outputId": "61d9ccaa-f317-46dd-e7fb-9010b46ea9fd"
      },
      "execution_count": 14,
      "outputs": [
        {
          "output_type": "stream",
          "name": "stdout",
          "text": [
            "476\n",
            "['Cofield', 'Cofield', 'Cofield', 'Cofield', 'Cofield', 'Cofield', 'Cofield', 'Cofield', 'Cofield', 'Cofield', 'Cofield', 'Cofield', 'Cofield', 'Cofield', 'Cofield', 'Cofield', 'Cofield', 'Cofield', 'Cofield', 'Cofield', 'Cofield', 'Cofield', 'Cofield', 'Cofield', 'Cofield', 'Cofield', 'Cofield', 'Cofield', 'Cofield', 'Cofield', 'Cofield', 'Cofield', 'Cofield', 'Cofield', 'Cofield', 'Cofield', 'Cofield', 'Cofield', 'Cofield', 'Cofield', 'Cofield', 'Cofield', 'Cofield', 'Cofield', 'Cofield', 'Cofield', 'Cofield', 'Cofield', 'Cofield', 'Cofield', 'Cofield', 'Cofield', 'Cofield', 'Cofield', 'Cofield', 'Cofield', 'Cofield', 'Cofield', 'Cofield', 'Cofield', 'Cofield', 'Cofield', 'Cofield', 'Cofield', 'Cofield', 'Cofield', 'Depuy', 'Depuy', 'Depuy', 'Depuy', 'Depuy', 'Depuy', 'Depuy', 'Depuy', 'Depuy', 'Depuy', 'Depuy', 'Depuy', 'Depuy', 'Depuy', 'Depuy', 'Depuy', 'Depuy', 'Depuy', 'Depuy', 'Depuy', 'Depuy', 'Depuy', 'Depuy', 'Depuy', 'Depuy', 'Depuy', 'Depuy', 'Depuy', 'Depuy', 'Depuy', 'Depuy', 'Depuy', 'Depuy', 'Depuy', 'Depuy', 'Depuy', 'Depuy', 'Depuy', 'Depuy', 'Depuy', 'Depuy', 'Depuy', 'Depuy', 'Depuy', 'Depuy', 'Depuy', 'Depuy', 'Depuy', 'Depuy', 'Depuy', 'Depuy', 'Depuy', 'Depuy', 'Depuy', 'Depuy', 'Depuy', 'Depuy', 'Depuy', 'Depuy', 'Depuy', 'Depuy', 'Depuy', 'Depuy', 'Depuy', 'Depuy', 'Depuy', 'Depuy', 'Depuy', 'Depuy', 'Depuy', 'Depuy', 'Depuy', 'Depuy', 'Depuy', 'Depuy', 'Depuy', 'Depuy', 'Depuy', 'Depuy', 'Depuy', 'Depuy', 'Depuy', 'Depuy', 'Depuy', 'Depuy', 'Depuy', 'Depuy', 'Depuy', 'Depuy', 'Depuy', 'Depuy', 'Depuy', 'Depuy', 'Depuy', 'Depuy', 'Depuy', 'Depuy', 'Depuy', 'Depuy', 'Depuy', 'Depuy', 'Depuy', 'Depuy', 'Depuy', 'Depuy', 'Depuy', 'Depuy', 'Depuy', 'Depuy', 'Depuy', 'Depuy', 'Depuy', 'Depuy', 'Depuy', 'Depuy', 'Depuy', 'Depuy', 'Depuy', 'Depuy', 'Depuy', 'Depuy', 'Depuy', 'Depuy', 'Depuy', 'Depuy', 'Depuy', 'Depuy', 'Depuy', 'Depuy', 'Depuy', 'Depuy', 'Depuy', 'Depuy', 'Depuy', 'Depuy', 'Depuy', 'Depuy', 'Depuy', 'Depuy', 'Depuy', 'Depuy', 'Depuy', 'Depuy', 'Depuy', 'Depuy', 'Depuy', 'Depuy', 'Depuy', 'Depuy', 'Depuy', 'Depuy', 'Depuy', 'Depuy', 'Depuy', 'Depuy', 'Depuy', 'Depuy', 'Depuy', 'Depuy', 'Depuy', 'Depuy', 'Depuy', 'Depuy', 'Depuy', 'Depuy', 'Depuy', 'Depuy', 'Depuy', 'Depuy', 'Depuy', 'Depuy', 'Depuy', 'Depuy', 'Depuy', 'Depuy', 'Depuy', 'Depuy', 'Depuy', 'Depuy', 'Depuy', 'Depuy', 'Depuy', 'Depuy', 'Depuy', 'Depuy', 'Depuy', 'Depuy', 'Depuy', 'Depuy', 'Depuy', 'Depuy', 'Depuy', 'Depuy', 'Depuy', 'Depuy', 'Depuy', 'Depuy', 'Depuy', 'Depuy', 'Depuy', 'Depuy', 'Depuy', 'Depuy', 'Depuy', 'Depuy', 'Depuy', 'Depuy', 'Depuy', 'Depuy', 'Depuy', 'Depuy', 'Depuy', 'Depuy', 'Depuy', 'Depuy', 'Depuy', 'Depuy', 'Depuy', 'Depuy', 'Depuy', 'Depuy', 'Depuy', 'Depuy', 'Depuy', 'Depuy', 'Depuy', 'Depuy', 'Depuy', 'Depuy', 'Depuy', 'Depuy', 'Depuy', 'Depuy', 'Depuy', 'Depuy', 'Tornier', 'Tornier', 'Tornier', 'Tornier', 'Tornier', 'Tornier', 'Tornier', 'Tornier', 'Tornier', 'Tornier', 'Tornier', 'Tornier', 'Tornier', 'Tornier', 'Tornier', 'Tornier', 'Tornier', 'Tornier', 'Tornier', 'Tornier', 'Tornier', 'Tornier', 'Tornier', 'Tornier', 'Tornier', 'Tornier', 'Tornier', 'Tornier', 'Tornier', 'Tornier', 'Tornier', 'Tornier', 'Tornier', 'Tornier', 'Tornier', 'Tornier', 'Tornier', 'Tornier', 'Tornier', 'Tornier', 'Tornier', 'Tornier', 'Tornier', 'Tornier', 'Tornier', 'Tornier', 'Tornier', 'Tornier', 'Tornier', 'Tornier', 'Tornier', 'Tornier', 'Tornier', 'Tornier', 'Tornier', 'Tornier', 'Zimmer', 'Zimmer', 'Zimmer', 'Zimmer', 'Zimmer', 'Zimmer', 'Zimmer', 'Zimmer', 'Zimmer', 'Zimmer', 'Zimmer', 'Zimmer', 'Zimmer', 'Zimmer', 'Zimmer', 'Zimmer', 'Zimmer', 'Zimmer', 'Zimmer', 'Zimmer', 'Zimmer', 'Zimmer', 'Zimmer', 'Zimmer', 'Zimmer', 'Zimmer', 'Zimmer', 'Zimmer', 'Zimmer', 'Zimmer', 'Zimmer', 'Zimmer', 'Zimmer', 'Zimmer', 'Zimmer', 'Zimmer', 'Zimmer', 'Zimmer', 'Zimmer', 'Zimmer', 'Zimmer', 'Zimmer', 'Zimmer', 'Zimmer', 'Zimmer', 'Zimmer', 'Zimmer', 'Zimmer', 'Zimmer', 'Zimmer', 'Zimmer', 'Zimmer', 'Zimmer', 'Zimmer', 'Zimmer', 'Zimmer', 'Zimmer', 'Zimmer', 'Zimmer', 'Zimmer', 'Zimmer', 'Zimmer', 'Zimmer', 'Zimmer', 'Zimmer', 'Zimmer', 'Zimmer', 'Zimmer', 'Zimmer', 'Zimmer', 'Zimmer', 'Zimmer', 'Zimmer', 'Zimmer', 'Zimmer', 'Zimmer', 'Zimmer', 'Zimmer', 'Zimmer', 'Zimmer', 'Zimmer', 'Zimmer', 'Zimmer', 'Zimmer', 'Zimmer', 'Zimmer', 'Zimmer', 'Zimmer', 'Zimmer', 'Zimmer', 'Zimmer', 'Zimmer', 'Zimmer', 'Zimmer', 'Zimmer', 'Zimmer', 'Zimmer', 'Zimmer', 'Zimmer', 'Zimmer', 'Zimmer', 'Zimmer', 'Zimmer', 'Zimmer', 'Zimmer', 'Zimmer', 'Zimmer', 'Zimmer', 'Zimmer', 'Zimmer', 'Zimmer', 'Zimmer', 'Zimmer', 'Zimmer', 'Zimmer', 'Zimmer', 'Zimmer', 'Zimmer', 'Zimmer']\n"
          ]
        }
      ]
    },
    {
      "cell_type": "code",
      "source": [
        "test_data_label =[]\n",
        "for filepath in test_data_file_path:\n",
        "  label = filepath.split('.')[0].rsplit('/')[3]\n",
        "  test_data_label.append(label)"
      ],
      "metadata": {
        "id": "FiwGcBzxyQiC"
      },
      "execution_count": 15,
      "outputs": []
    },
    {
      "cell_type": "code",
      "source": [
        "print(len(test_data_label))\n",
        "print(test_data_label)"
      ],
      "metadata": {
        "colab": {
          "base_uri": "https://localhost:8080/"
        },
        "id": "fa0tnU7Nya36",
        "outputId": "770e93ae-194c-4495-bb9f-e420ac2b0f24"
      },
      "execution_count": 16,
      "outputs": [
        {
          "output_type": "stream",
          "name": "stdout",
          "text": [
            "117\n",
            "['Cofield', 'Cofield', 'Cofield', 'Cofield', 'Cofield', 'Cofield', 'Cofield', 'Cofield', 'Cofield', 'Cofield', 'Cofield', 'Cofield', 'Cofield', 'Cofield', 'Cofield', 'Cofield', 'Depuy', 'Depuy', 'Depuy', 'Depuy', 'Depuy', 'Depuy', 'Depuy', 'Depuy', 'Depuy', 'Depuy', 'Depuy', 'Depuy', 'Depuy', 'Depuy', 'Depuy', 'Depuy', 'Depuy', 'Depuy', 'Depuy', 'Depuy', 'Depuy', 'Depuy', 'Depuy', 'Depuy', 'Depuy', 'Depuy', 'Depuy', 'Depuy', 'Depuy', 'Depuy', 'Depuy', 'Depuy', 'Depuy', 'Depuy', 'Depuy', 'Depuy', 'Depuy', 'Depuy', 'Depuy', 'Depuy', 'Depuy', 'Depuy', 'Depuy', 'Depuy', 'Depuy', 'Depuy', 'Depuy', 'Depuy', 'Depuy', 'Depuy', 'Depuy', 'Depuy', 'Depuy', 'Depuy', 'Depuy', 'Depuy', 'Depuy', 'Depuy', 'Tornier', 'Tornier', 'Tornier', 'Tornier', 'Tornier', 'Tornier', 'Tornier', 'Tornier', 'Tornier', 'Tornier', 'Tornier', 'Tornier', 'Tornier', 'Tornier', 'Zimmer', 'Zimmer', 'Zimmer', 'Zimmer', 'Zimmer', 'Zimmer', 'Zimmer', 'Zimmer', 'Zimmer', 'Zimmer', 'Zimmer', 'Zimmer', 'Zimmer', 'Zimmer', 'Zimmer', 'Zimmer', 'Zimmer', 'Zimmer', 'Zimmer', 'Zimmer', 'Zimmer', 'Zimmer', 'Zimmer', 'Zimmer', 'Zimmer', 'Zimmer', 'Zimmer', 'Zimmer', 'Zimmer']\n"
          ]
        }
      ]
    },
    {
      "cell_type": "markdown",
      "source": [
        "Create Dataframe for train set"
      ],
      "metadata": {
        "id": "XyCRs4I6yz1S"
      }
    },
    {
      "cell_type": "code",
      "source": [
        "Train_df = pd.DataFrame({'train_data_file_path':train_data_file_path,'train_data_label':train_data_label})\n",
        "Train_df"
      ],
      "metadata": {
        "colab": {
          "base_uri": "https://localhost:8080/",
          "height": 423
        },
        "id": "o_M36L9MydUv",
        "outputId": "efc938e5-8e19-4433-cc91-d45d6cdaabdf"
      },
      "execution_count": 17,
      "outputs": [
        {
          "output_type": "execute_result",
          "data": {
            "text/plain": [
              "             train_data_file_path train_data_label\n",
              "0    /content/data/Cofield.61.jpg          Cofield\n",
              "1    /content/data/Cofield.79.jpg          Cofield\n",
              "2    /content/data/Cofield.48.jpg          Cofield\n",
              "3    /content/data/Cofield.67.jpg          Cofield\n",
              "4    /content/data/Cofield.37.jpg          Cofield\n",
              "..                            ...              ...\n",
              "471  /content/data/Zimmer.135.jpg           Zimmer\n",
              "472   /content/data/Zimmer.54.jpg           Zimmer\n",
              "473   /content/data/Zimmer.87.jpg           Zimmer\n",
              "474   /content/data/Zimmer.64.jpg           Zimmer\n",
              "475  /content/data/Zimmer.116.jpg           Zimmer\n",
              "\n",
              "[476 rows x 2 columns]"
            ],
            "text/html": [
              "\n",
              "  <div id=\"df-b91e9f10-c445-486b-aeca-e129f145941f\" class=\"colab-df-container\">\n",
              "    <div>\n",
              "<style scoped>\n",
              "    .dataframe tbody tr th:only-of-type {\n",
              "        vertical-align: middle;\n",
              "    }\n",
              "\n",
              "    .dataframe tbody tr th {\n",
              "        vertical-align: top;\n",
              "    }\n",
              "\n",
              "    .dataframe thead th {\n",
              "        text-align: right;\n",
              "    }\n",
              "</style>\n",
              "<table border=\"1\" class=\"dataframe\">\n",
              "  <thead>\n",
              "    <tr style=\"text-align: right;\">\n",
              "      <th></th>\n",
              "      <th>train_data_file_path</th>\n",
              "      <th>train_data_label</th>\n",
              "    </tr>\n",
              "  </thead>\n",
              "  <tbody>\n",
              "    <tr>\n",
              "      <th>0</th>\n",
              "      <td>/content/data/Cofield.61.jpg</td>\n",
              "      <td>Cofield</td>\n",
              "    </tr>\n",
              "    <tr>\n",
              "      <th>1</th>\n",
              "      <td>/content/data/Cofield.79.jpg</td>\n",
              "      <td>Cofield</td>\n",
              "    </tr>\n",
              "    <tr>\n",
              "      <th>2</th>\n",
              "      <td>/content/data/Cofield.48.jpg</td>\n",
              "      <td>Cofield</td>\n",
              "    </tr>\n",
              "    <tr>\n",
              "      <th>3</th>\n",
              "      <td>/content/data/Cofield.67.jpg</td>\n",
              "      <td>Cofield</td>\n",
              "    </tr>\n",
              "    <tr>\n",
              "      <th>4</th>\n",
              "      <td>/content/data/Cofield.37.jpg</td>\n",
              "      <td>Cofield</td>\n",
              "    </tr>\n",
              "    <tr>\n",
              "      <th>...</th>\n",
              "      <td>...</td>\n",
              "      <td>...</td>\n",
              "    </tr>\n",
              "    <tr>\n",
              "      <th>471</th>\n",
              "      <td>/content/data/Zimmer.135.jpg</td>\n",
              "      <td>Zimmer</td>\n",
              "    </tr>\n",
              "    <tr>\n",
              "      <th>472</th>\n",
              "      <td>/content/data/Zimmer.54.jpg</td>\n",
              "      <td>Zimmer</td>\n",
              "    </tr>\n",
              "    <tr>\n",
              "      <th>473</th>\n",
              "      <td>/content/data/Zimmer.87.jpg</td>\n",
              "      <td>Zimmer</td>\n",
              "    </tr>\n",
              "    <tr>\n",
              "      <th>474</th>\n",
              "      <td>/content/data/Zimmer.64.jpg</td>\n",
              "      <td>Zimmer</td>\n",
              "    </tr>\n",
              "    <tr>\n",
              "      <th>475</th>\n",
              "      <td>/content/data/Zimmer.116.jpg</td>\n",
              "      <td>Zimmer</td>\n",
              "    </tr>\n",
              "  </tbody>\n",
              "</table>\n",
              "<p>476 rows × 2 columns</p>\n",
              "</div>\n",
              "    <div class=\"colab-df-buttons\">\n",
              "\n",
              "  <div class=\"colab-df-container\">\n",
              "    <button class=\"colab-df-convert\" onclick=\"convertToInteractive('df-b91e9f10-c445-486b-aeca-e129f145941f')\"\n",
              "            title=\"Convert this dataframe to an interactive table.\"\n",
              "            style=\"display:none;\">\n",
              "\n",
              "  <svg xmlns=\"http://www.w3.org/2000/svg\" height=\"24px\" viewBox=\"0 -960 960 960\">\n",
              "    <path d=\"M120-120v-720h720v720H120Zm60-500h600v-160H180v160Zm220 220h160v-160H400v160Zm0 220h160v-160H400v160ZM180-400h160v-160H180v160Zm440 0h160v-160H620v160ZM180-180h160v-160H180v160Zm440 0h160v-160H620v160Z\"/>\n",
              "  </svg>\n",
              "    </button>\n",
              "\n",
              "  <style>\n",
              "    .colab-df-container {\n",
              "      display:flex;\n",
              "      gap: 12px;\n",
              "    }\n",
              "\n",
              "    .colab-df-convert {\n",
              "      background-color: #E8F0FE;\n",
              "      border: none;\n",
              "      border-radius: 50%;\n",
              "      cursor: pointer;\n",
              "      display: none;\n",
              "      fill: #1967D2;\n",
              "      height: 32px;\n",
              "      padding: 0 0 0 0;\n",
              "      width: 32px;\n",
              "    }\n",
              "\n",
              "    .colab-df-convert:hover {\n",
              "      background-color: #E2EBFA;\n",
              "      box-shadow: 0px 1px 2px rgba(60, 64, 67, 0.3), 0px 1px 3px 1px rgba(60, 64, 67, 0.15);\n",
              "      fill: #174EA6;\n",
              "    }\n",
              "\n",
              "    .colab-df-buttons div {\n",
              "      margin-bottom: 4px;\n",
              "    }\n",
              "\n",
              "    [theme=dark] .colab-df-convert {\n",
              "      background-color: #3B4455;\n",
              "      fill: #D2E3FC;\n",
              "    }\n",
              "\n",
              "    [theme=dark] .colab-df-convert:hover {\n",
              "      background-color: #434B5C;\n",
              "      box-shadow: 0px 1px 3px 1px rgba(0, 0, 0, 0.15);\n",
              "      filter: drop-shadow(0px 1px 2px rgba(0, 0, 0, 0.3));\n",
              "      fill: #FFFFFF;\n",
              "    }\n",
              "  </style>\n",
              "\n",
              "    <script>\n",
              "      const buttonEl =\n",
              "        document.querySelector('#df-b91e9f10-c445-486b-aeca-e129f145941f button.colab-df-convert');\n",
              "      buttonEl.style.display =\n",
              "        google.colab.kernel.accessAllowed ? 'block' : 'none';\n",
              "\n",
              "      async function convertToInteractive(key) {\n",
              "        const element = document.querySelector('#df-b91e9f10-c445-486b-aeca-e129f145941f');\n",
              "        const dataTable =\n",
              "          await google.colab.kernel.invokeFunction('convertToInteractive',\n",
              "                                                    [key], {});\n",
              "        if (!dataTable) return;\n",
              "\n",
              "        const docLinkHtml = 'Like what you see? Visit the ' +\n",
              "          '<a target=\"_blank\" href=https://colab.research.google.com/notebooks/data_table.ipynb>data table notebook</a>'\n",
              "          + ' to learn more about interactive tables.';\n",
              "        element.innerHTML = '';\n",
              "        dataTable['output_type'] = 'display_data';\n",
              "        await google.colab.output.renderOutput(dataTable, element);\n",
              "        const docLink = document.createElement('div');\n",
              "        docLink.innerHTML = docLinkHtml;\n",
              "        element.appendChild(docLink);\n",
              "      }\n",
              "    </script>\n",
              "  </div>\n",
              "\n",
              "\n",
              "<div id=\"df-c39e1567-8247-4ffd-800d-5ee652f56743\">\n",
              "  <button class=\"colab-df-quickchart\" onclick=\"quickchart('df-c39e1567-8247-4ffd-800d-5ee652f56743')\"\n",
              "            title=\"Suggest charts.\"\n",
              "            style=\"display:none;\">\n",
              "\n",
              "<svg xmlns=\"http://www.w3.org/2000/svg\" height=\"24px\"viewBox=\"0 0 24 24\"\n",
              "     width=\"24px\">\n",
              "    <g>\n",
              "        <path d=\"M19 3H5c-1.1 0-2 .9-2 2v14c0 1.1.9 2 2 2h14c1.1 0 2-.9 2-2V5c0-1.1-.9-2-2-2zM9 17H7v-7h2v7zm4 0h-2V7h2v10zm4 0h-2v-4h2v4z\"/>\n",
              "    </g>\n",
              "</svg>\n",
              "  </button>\n",
              "\n",
              "<style>\n",
              "  .colab-df-quickchart {\n",
              "      --bg-color: #E8F0FE;\n",
              "      --fill-color: #1967D2;\n",
              "      --hover-bg-color: #E2EBFA;\n",
              "      --hover-fill-color: #174EA6;\n",
              "      --disabled-fill-color: #AAA;\n",
              "      --disabled-bg-color: #DDD;\n",
              "  }\n",
              "\n",
              "  [theme=dark] .colab-df-quickchart {\n",
              "      --bg-color: #3B4455;\n",
              "      --fill-color: #D2E3FC;\n",
              "      --hover-bg-color: #434B5C;\n",
              "      --hover-fill-color: #FFFFFF;\n",
              "      --disabled-bg-color: #3B4455;\n",
              "      --disabled-fill-color: #666;\n",
              "  }\n",
              "\n",
              "  .colab-df-quickchart {\n",
              "    background-color: var(--bg-color);\n",
              "    border: none;\n",
              "    border-radius: 50%;\n",
              "    cursor: pointer;\n",
              "    display: none;\n",
              "    fill: var(--fill-color);\n",
              "    height: 32px;\n",
              "    padding: 0;\n",
              "    width: 32px;\n",
              "  }\n",
              "\n",
              "  .colab-df-quickchart:hover {\n",
              "    background-color: var(--hover-bg-color);\n",
              "    box-shadow: 0 1px 2px rgba(60, 64, 67, 0.3), 0 1px 3px 1px rgba(60, 64, 67, 0.15);\n",
              "    fill: var(--button-hover-fill-color);\n",
              "  }\n",
              "\n",
              "  .colab-df-quickchart-complete:disabled,\n",
              "  .colab-df-quickchart-complete:disabled:hover {\n",
              "    background-color: var(--disabled-bg-color);\n",
              "    fill: var(--disabled-fill-color);\n",
              "    box-shadow: none;\n",
              "  }\n",
              "\n",
              "  .colab-df-spinner {\n",
              "    border: 2px solid var(--fill-color);\n",
              "    border-color: transparent;\n",
              "    border-bottom-color: var(--fill-color);\n",
              "    animation:\n",
              "      spin 1s steps(1) infinite;\n",
              "  }\n",
              "\n",
              "  @keyframes spin {\n",
              "    0% {\n",
              "      border-color: transparent;\n",
              "      border-bottom-color: var(--fill-color);\n",
              "      border-left-color: var(--fill-color);\n",
              "    }\n",
              "    20% {\n",
              "      border-color: transparent;\n",
              "      border-left-color: var(--fill-color);\n",
              "      border-top-color: var(--fill-color);\n",
              "    }\n",
              "    30% {\n",
              "      border-color: transparent;\n",
              "      border-left-color: var(--fill-color);\n",
              "      border-top-color: var(--fill-color);\n",
              "      border-right-color: var(--fill-color);\n",
              "    }\n",
              "    40% {\n",
              "      border-color: transparent;\n",
              "      border-right-color: var(--fill-color);\n",
              "      border-top-color: var(--fill-color);\n",
              "    }\n",
              "    60% {\n",
              "      border-color: transparent;\n",
              "      border-right-color: var(--fill-color);\n",
              "    }\n",
              "    80% {\n",
              "      border-color: transparent;\n",
              "      border-right-color: var(--fill-color);\n",
              "      border-bottom-color: var(--fill-color);\n",
              "    }\n",
              "    90% {\n",
              "      border-color: transparent;\n",
              "      border-bottom-color: var(--fill-color);\n",
              "    }\n",
              "  }\n",
              "</style>\n",
              "\n",
              "  <script>\n",
              "    async function quickchart(key) {\n",
              "      const quickchartButtonEl =\n",
              "        document.querySelector('#' + key + ' button');\n",
              "      quickchartButtonEl.disabled = true;  // To prevent multiple clicks.\n",
              "      quickchartButtonEl.classList.add('colab-df-spinner');\n",
              "      try {\n",
              "        const charts = await google.colab.kernel.invokeFunction(\n",
              "            'suggestCharts', [key], {});\n",
              "      } catch (error) {\n",
              "        console.error('Error during call to suggestCharts:', error);\n",
              "      }\n",
              "      quickchartButtonEl.classList.remove('colab-df-spinner');\n",
              "      quickchartButtonEl.classList.add('colab-df-quickchart-complete');\n",
              "    }\n",
              "    (() => {\n",
              "      let quickchartButtonEl =\n",
              "        document.querySelector('#df-c39e1567-8247-4ffd-800d-5ee652f56743 button');\n",
              "      quickchartButtonEl.style.display =\n",
              "        google.colab.kernel.accessAllowed ? 'block' : 'none';\n",
              "    })();\n",
              "  </script>\n",
              "</div>\n",
              "    </div>\n",
              "  </div>\n"
            ]
          },
          "metadata": {},
          "execution_count": 17
        }
      ]
    },
    {
      "cell_type": "code",
      "source": [
        "Test_df = pd.DataFrame({'test_data_file_path':test_data_file_path,'test_data_label':test_data_label})\n",
        "Test_df"
      ],
      "metadata": {
        "colab": {
          "base_uri": "https://localhost:8080/",
          "height": 423
        },
        "id": "BtT_Gqv2zPer",
        "outputId": "c02d9372-3365-434d-cbef-419d6e3346b8"
      },
      "execution_count": 22,
      "outputs": [
        {
          "output_type": "execute_result",
          "data": {
            "text/plain": [
              "              test_data_file_path test_data_label\n",
              "0    /content/data/Cofield.61.jpg         Cofield\n",
              "1    /content/data/Cofield.79.jpg         Cofield\n",
              "2    /content/data/Cofield.48.jpg         Cofield\n",
              "3    /content/data/Cofield.67.jpg         Cofield\n",
              "4    /content/data/Cofield.37.jpg         Cofield\n",
              "..                            ...             ...\n",
              "112  /content/data/Zimmer.106.jpg          Zimmer\n",
              "113   /content/data/Zimmer.83.jpg          Zimmer\n",
              "114   /content/data/Zimmer.89.jpg          Zimmer\n",
              "115   /content/data/Zimmer.97.jpg          Zimmer\n",
              "116  /content/data/Zimmer.109.jpg          Zimmer\n",
              "\n",
              "[117 rows x 2 columns]"
            ],
            "text/html": [
              "\n",
              "  <div id=\"df-7526e2fb-49be-467d-ac47-59761bf14345\" class=\"colab-df-container\">\n",
              "    <div>\n",
              "<style scoped>\n",
              "    .dataframe tbody tr th:only-of-type {\n",
              "        vertical-align: middle;\n",
              "    }\n",
              "\n",
              "    .dataframe tbody tr th {\n",
              "        vertical-align: top;\n",
              "    }\n",
              "\n",
              "    .dataframe thead th {\n",
              "        text-align: right;\n",
              "    }\n",
              "</style>\n",
              "<table border=\"1\" class=\"dataframe\">\n",
              "  <thead>\n",
              "    <tr style=\"text-align: right;\">\n",
              "      <th></th>\n",
              "      <th>test_data_file_path</th>\n",
              "      <th>test_data_label</th>\n",
              "    </tr>\n",
              "  </thead>\n",
              "  <tbody>\n",
              "    <tr>\n",
              "      <th>0</th>\n",
              "      <td>/content/data/Cofield.61.jpg</td>\n",
              "      <td>Cofield</td>\n",
              "    </tr>\n",
              "    <tr>\n",
              "      <th>1</th>\n",
              "      <td>/content/data/Cofield.79.jpg</td>\n",
              "      <td>Cofield</td>\n",
              "    </tr>\n",
              "    <tr>\n",
              "      <th>2</th>\n",
              "      <td>/content/data/Cofield.48.jpg</td>\n",
              "      <td>Cofield</td>\n",
              "    </tr>\n",
              "    <tr>\n",
              "      <th>3</th>\n",
              "      <td>/content/data/Cofield.67.jpg</td>\n",
              "      <td>Cofield</td>\n",
              "    </tr>\n",
              "    <tr>\n",
              "      <th>4</th>\n",
              "      <td>/content/data/Cofield.37.jpg</td>\n",
              "      <td>Cofield</td>\n",
              "    </tr>\n",
              "    <tr>\n",
              "      <th>...</th>\n",
              "      <td>...</td>\n",
              "      <td>...</td>\n",
              "    </tr>\n",
              "    <tr>\n",
              "      <th>112</th>\n",
              "      <td>/content/data/Zimmer.106.jpg</td>\n",
              "      <td>Zimmer</td>\n",
              "    </tr>\n",
              "    <tr>\n",
              "      <th>113</th>\n",
              "      <td>/content/data/Zimmer.83.jpg</td>\n",
              "      <td>Zimmer</td>\n",
              "    </tr>\n",
              "    <tr>\n",
              "      <th>114</th>\n",
              "      <td>/content/data/Zimmer.89.jpg</td>\n",
              "      <td>Zimmer</td>\n",
              "    </tr>\n",
              "    <tr>\n",
              "      <th>115</th>\n",
              "      <td>/content/data/Zimmer.97.jpg</td>\n",
              "      <td>Zimmer</td>\n",
              "    </tr>\n",
              "    <tr>\n",
              "      <th>116</th>\n",
              "      <td>/content/data/Zimmer.109.jpg</td>\n",
              "      <td>Zimmer</td>\n",
              "    </tr>\n",
              "  </tbody>\n",
              "</table>\n",
              "<p>117 rows × 2 columns</p>\n",
              "</div>\n",
              "    <div class=\"colab-df-buttons\">\n",
              "\n",
              "  <div class=\"colab-df-container\">\n",
              "    <button class=\"colab-df-convert\" onclick=\"convertToInteractive('df-7526e2fb-49be-467d-ac47-59761bf14345')\"\n",
              "            title=\"Convert this dataframe to an interactive table.\"\n",
              "            style=\"display:none;\">\n",
              "\n",
              "  <svg xmlns=\"http://www.w3.org/2000/svg\" height=\"24px\" viewBox=\"0 -960 960 960\">\n",
              "    <path d=\"M120-120v-720h720v720H120Zm60-500h600v-160H180v160Zm220 220h160v-160H400v160Zm0 220h160v-160H400v160ZM180-400h160v-160H180v160Zm440 0h160v-160H620v160ZM180-180h160v-160H180v160Zm440 0h160v-160H620v160Z\"/>\n",
              "  </svg>\n",
              "    </button>\n",
              "\n",
              "  <style>\n",
              "    .colab-df-container {\n",
              "      display:flex;\n",
              "      gap: 12px;\n",
              "    }\n",
              "\n",
              "    .colab-df-convert {\n",
              "      background-color: #E8F0FE;\n",
              "      border: none;\n",
              "      border-radius: 50%;\n",
              "      cursor: pointer;\n",
              "      display: none;\n",
              "      fill: #1967D2;\n",
              "      height: 32px;\n",
              "      padding: 0 0 0 0;\n",
              "      width: 32px;\n",
              "    }\n",
              "\n",
              "    .colab-df-convert:hover {\n",
              "      background-color: #E2EBFA;\n",
              "      box-shadow: 0px 1px 2px rgba(60, 64, 67, 0.3), 0px 1px 3px 1px rgba(60, 64, 67, 0.15);\n",
              "      fill: #174EA6;\n",
              "    }\n",
              "\n",
              "    .colab-df-buttons div {\n",
              "      margin-bottom: 4px;\n",
              "    }\n",
              "\n",
              "    [theme=dark] .colab-df-convert {\n",
              "      background-color: #3B4455;\n",
              "      fill: #D2E3FC;\n",
              "    }\n",
              "\n",
              "    [theme=dark] .colab-df-convert:hover {\n",
              "      background-color: #434B5C;\n",
              "      box-shadow: 0px 1px 3px 1px rgba(0, 0, 0, 0.15);\n",
              "      filter: drop-shadow(0px 1px 2px rgba(0, 0, 0, 0.3));\n",
              "      fill: #FFFFFF;\n",
              "    }\n",
              "  </style>\n",
              "\n",
              "    <script>\n",
              "      const buttonEl =\n",
              "        document.querySelector('#df-7526e2fb-49be-467d-ac47-59761bf14345 button.colab-df-convert');\n",
              "      buttonEl.style.display =\n",
              "        google.colab.kernel.accessAllowed ? 'block' : 'none';\n",
              "\n",
              "      async function convertToInteractive(key) {\n",
              "        const element = document.querySelector('#df-7526e2fb-49be-467d-ac47-59761bf14345');\n",
              "        const dataTable =\n",
              "          await google.colab.kernel.invokeFunction('convertToInteractive',\n",
              "                                                    [key], {});\n",
              "        if (!dataTable) return;\n",
              "\n",
              "        const docLinkHtml = 'Like what you see? Visit the ' +\n",
              "          '<a target=\"_blank\" href=https://colab.research.google.com/notebooks/data_table.ipynb>data table notebook</a>'\n",
              "          + ' to learn more about interactive tables.';\n",
              "        element.innerHTML = '';\n",
              "        dataTable['output_type'] = 'display_data';\n",
              "        await google.colab.output.renderOutput(dataTable, element);\n",
              "        const docLink = document.createElement('div');\n",
              "        docLink.innerHTML = docLinkHtml;\n",
              "        element.appendChild(docLink);\n",
              "      }\n",
              "    </script>\n",
              "  </div>\n",
              "\n",
              "\n",
              "<div id=\"df-aac70313-9f66-4e23-9f68-9cdcc4c80c1f\">\n",
              "  <button class=\"colab-df-quickchart\" onclick=\"quickchart('df-aac70313-9f66-4e23-9f68-9cdcc4c80c1f')\"\n",
              "            title=\"Suggest charts.\"\n",
              "            style=\"display:none;\">\n",
              "\n",
              "<svg xmlns=\"http://www.w3.org/2000/svg\" height=\"24px\"viewBox=\"0 0 24 24\"\n",
              "     width=\"24px\">\n",
              "    <g>\n",
              "        <path d=\"M19 3H5c-1.1 0-2 .9-2 2v14c0 1.1.9 2 2 2h14c1.1 0 2-.9 2-2V5c0-1.1-.9-2-2-2zM9 17H7v-7h2v7zm4 0h-2V7h2v10zm4 0h-2v-4h2v4z\"/>\n",
              "    </g>\n",
              "</svg>\n",
              "  </button>\n",
              "\n",
              "<style>\n",
              "  .colab-df-quickchart {\n",
              "      --bg-color: #E8F0FE;\n",
              "      --fill-color: #1967D2;\n",
              "      --hover-bg-color: #E2EBFA;\n",
              "      --hover-fill-color: #174EA6;\n",
              "      --disabled-fill-color: #AAA;\n",
              "      --disabled-bg-color: #DDD;\n",
              "  }\n",
              "\n",
              "  [theme=dark] .colab-df-quickchart {\n",
              "      --bg-color: #3B4455;\n",
              "      --fill-color: #D2E3FC;\n",
              "      --hover-bg-color: #434B5C;\n",
              "      --hover-fill-color: #FFFFFF;\n",
              "      --disabled-bg-color: #3B4455;\n",
              "      --disabled-fill-color: #666;\n",
              "  }\n",
              "\n",
              "  .colab-df-quickchart {\n",
              "    background-color: var(--bg-color);\n",
              "    border: none;\n",
              "    border-radius: 50%;\n",
              "    cursor: pointer;\n",
              "    display: none;\n",
              "    fill: var(--fill-color);\n",
              "    height: 32px;\n",
              "    padding: 0;\n",
              "    width: 32px;\n",
              "  }\n",
              "\n",
              "  .colab-df-quickchart:hover {\n",
              "    background-color: var(--hover-bg-color);\n",
              "    box-shadow: 0 1px 2px rgba(60, 64, 67, 0.3), 0 1px 3px 1px rgba(60, 64, 67, 0.15);\n",
              "    fill: var(--button-hover-fill-color);\n",
              "  }\n",
              "\n",
              "  .colab-df-quickchart-complete:disabled,\n",
              "  .colab-df-quickchart-complete:disabled:hover {\n",
              "    background-color: var(--disabled-bg-color);\n",
              "    fill: var(--disabled-fill-color);\n",
              "    box-shadow: none;\n",
              "  }\n",
              "\n",
              "  .colab-df-spinner {\n",
              "    border: 2px solid var(--fill-color);\n",
              "    border-color: transparent;\n",
              "    border-bottom-color: var(--fill-color);\n",
              "    animation:\n",
              "      spin 1s steps(1) infinite;\n",
              "  }\n",
              "\n",
              "  @keyframes spin {\n",
              "    0% {\n",
              "      border-color: transparent;\n",
              "      border-bottom-color: var(--fill-color);\n",
              "      border-left-color: var(--fill-color);\n",
              "    }\n",
              "    20% {\n",
              "      border-color: transparent;\n",
              "      border-left-color: var(--fill-color);\n",
              "      border-top-color: var(--fill-color);\n",
              "    }\n",
              "    30% {\n",
              "      border-color: transparent;\n",
              "      border-left-color: var(--fill-color);\n",
              "      border-top-color: var(--fill-color);\n",
              "      border-right-color: var(--fill-color);\n",
              "    }\n",
              "    40% {\n",
              "      border-color: transparent;\n",
              "      border-right-color: var(--fill-color);\n",
              "      border-top-color: var(--fill-color);\n",
              "    }\n",
              "    60% {\n",
              "      border-color: transparent;\n",
              "      border-right-color: var(--fill-color);\n",
              "    }\n",
              "    80% {\n",
              "      border-color: transparent;\n",
              "      border-right-color: var(--fill-color);\n",
              "      border-bottom-color: var(--fill-color);\n",
              "    }\n",
              "    90% {\n",
              "      border-color: transparent;\n",
              "      border-bottom-color: var(--fill-color);\n",
              "    }\n",
              "  }\n",
              "</style>\n",
              "\n",
              "  <script>\n",
              "    async function quickchart(key) {\n",
              "      const quickchartButtonEl =\n",
              "        document.querySelector('#' + key + ' button');\n",
              "      quickchartButtonEl.disabled = true;  // To prevent multiple clicks.\n",
              "      quickchartButtonEl.classList.add('colab-df-spinner');\n",
              "      try {\n",
              "        const charts = await google.colab.kernel.invokeFunction(\n",
              "            'suggestCharts', [key], {});\n",
              "      } catch (error) {\n",
              "        console.error('Error during call to suggestCharts:', error);\n",
              "      }\n",
              "      quickchartButtonEl.classList.remove('colab-df-spinner');\n",
              "      quickchartButtonEl.classList.add('colab-df-quickchart-complete');\n",
              "    }\n",
              "    (() => {\n",
              "      let quickchartButtonEl =\n",
              "        document.querySelector('#df-aac70313-9f66-4e23-9f68-9cdcc4c80c1f button');\n",
              "      quickchartButtonEl.style.display =\n",
              "        google.colab.kernel.accessAllowed ? 'block' : 'none';\n",
              "    })();\n",
              "  </script>\n",
              "</div>\n",
              "    </div>\n",
              "  </div>\n"
            ]
          },
          "metadata": {},
          "execution_count": 22
        }
      ]
    },
    {
      "cell_type": "markdown",
      "source": [
        "Let's visualize image with PIL"
      ],
      "metadata": {
        "id": "4gMT-5ou1oBm"
      }
    },
    {
      "cell_type": "code",
      "source": [
        "PIL.Image.open(str(train_data_file_path[0]))"
      ],
      "metadata": {
        "colab": {
          "base_uri": "https://localhost:8080/",
          "height": 267
        },
        "id": "gMVH79-51j7L",
        "outputId": "cadec4bb-7175-406d-cea4-1fc514b078ae"
      },
      "execution_count": 18,
      "outputs": [
        {
          "output_type": "execute_result",
          "data": {
            "text/plain": [
              "<PIL.JpegImagePlugin.JpegImageFile image mode=RGB size=250x250>"
            ],
            "image/png": "[encoded data removed]"
          },
          "metadata": {},
          "execution_count": 18
        }
      ]
    },
    {
      "cell_type": "code",
      "source": [
        "PIL.Image.open(str(train_data_file_path[1]))"
      ],
      "metadata": {
        "colab": {
          "base_uri": "https://localhost:8080/",
          "height": 267
        },
        "id": "EdDOwNJy1_8c",
        "outputId": "95cea728-3e65-4091-a39a-6b305fb6219a"
      },
      "execution_count": 19,
      "outputs": [
        {
          "output_type": "execute_result",
          "data": {
            "text/plain": [
              "<PIL.JpegImagePlugin.JpegImageFile image mode=RGB size=250x250>"
            ],
            "image/png": "[encoded data removed]"
          },
          "metadata": {},
          "execution_count": 19
        }
      ]
    },
    {
      "cell_type": "markdown",
      "source": [
        "Create train generator and test generator using ImageDataGenerator"
      ],
      "metadata": {
        "id": "KbG8nxFD2L0H"
      }
    },
    {
      "cell_type": "code",
      "source": [
        "from tensorflow.python.ops.batch_ops import batch\n",
        "train_generator = tf.keras.preprocessing.image.ImageDataGenerator(rescale=1./255.).flow_from_dataframe(\n",
        "    dataframe=Train_df,\n",
        "    director='/content/data',\n",
        "    x_col='train_data_file_path',\n",
        "    y_col='train_data_label',\n",
        "    target_size=(256,2560),\n",
        "    color_mode = 'rgb',\n",
        "    color_model='categorical',\n",
        "    batch_size=32,\n",
        "    shuffle=True,\n",
        "    seed=123,subset='training'\n",
        ")"
      ],
      "metadata": {
        "colab": {
          "base_uri": "https://localhost:8080/"
        },
        "id": "QJ7ZZ5-p2JVp",
        "outputId": "ea6578c5-00b4-4c01-ace4-650642c4ba05"
      },
      "execution_count": 20,
      "outputs": [
        {
          "output_type": "stream",
          "name": "stdout",
          "text": [
            "Found 476 validated image filenames belonging to 4 classes.\n"
          ]
        }
      ]
    },
    {
      "cell_type": "code",
      "source": [
        "test_generator = tf.keras.preprocessing.image.ImageDataGenerator(rescale=1./255.).flow_from_dataframe(\n",
        "    dataframe=Test_df,\n",
        "    director='/content/data',\n",
        "    x_col='test_data_file_path',\n",
        "    y_col='test_data_label',\n",
        "    target_size=(256,2560),\n",
        "    color_mode = 'rgb',\n",
        "    color_model='categorical',\n",
        "    batch_size=32,\n",
        "    shuffle=True,\n",
        "    seed=123\n",
        ")"
      ],
      "metadata": {
        "colab": {
          "base_uri": "https://localhost:8080/"
        },
        "id": "IZTYZg6r3lFY",
        "outputId": "708ea21c-ef2d-4a93-94ad-63e4141a3f5a"
      },
      "execution_count": 24,
      "outputs": [
        {
          "output_type": "stream",
          "name": "stdout",
          "text": [
            "Found 117 validated image filenames belonging to 4 classes.\n"
          ]
        }
      ]
    },
    {
      "cell_type": "markdown",
      "source": [
        "Now Show more target"
      ],
      "metadata": {
        "id": "ll4Pc70p3_2f"
      }
    },
    {
      "cell_type": "code",
      "source": [
        "class_dict =train_generator.class_indices\n",
        "class_dict\n",
        "key_list = list(class_dict.keys())\n",
        "value_lst = list(class_dict.values())"
      ],
      "metadata": {
        "id": "YfV6a11w34aS"
      },
      "execution_count": 25,
      "outputs": []
    },
    {
      "cell_type": "code",
      "source": [
        "plt.figure(figsize=(20,15))\n",
        "images,encoded_labels = next(train_generator)\n",
        "labels =np.argmax(encoded_labels,axis=1)\n",
        "for i in range(15):\n",
        "  plt.subplot(5,5,i+1)\n",
        "  plt.xticks([])\n",
        "  plt.yticks([])\n",
        "  plt.imshow(images[i])\n",
        "  plt.xlabel(key_list[labels[i]])\n",
        "plt.show()"
      ],
      "metadata": {
        "colab": {
          "base_uri": "https://localhost:8080/",
          "height": 501
        },
        "id": "aNPjNflj4nte",
        "outputId": "f673d949-22d3-4566-cd6e-c9745827e801"
      },
      "execution_count": 27,
      "outputs": [
        {
          "output_type": "display_data",
          "data": {
            "text/plain": [
              "<Figure size 2000x1500 with 15 Axes>"
            ],
            "image/png": "[encoded data removed]"
          },
          "metadata": {}
        }
      ]
    },
    {
      "cell_type": "code",
      "source": [
        "for image_batch,labels_batch in train_generator:\n",
        "  print(image_batch.shape)\n",
        "  print(labels_batch.shape)\n",
        "  break"
      ],
      "metadata": {
        "colab": {
          "base_uri": "https://localhost:8080/"
        },
        "id": "uYzJhEAg5tXQ",
        "outputId": "30d28745-5e88-402a-a82a-ee9bafb9b355"
      },
      "execution_count": 48,
      "outputs": [
        {
          "output_type": "stream",
          "name": "stdout",
          "text": [
            "(32, 256, 2560, 3)\n",
            "(32, 4)\n"
          ]
        }
      ]
    },
    {
      "cell_type": "markdown",
      "source": [
        "Xray Manufacturer Classifier using Convolution Neural Network(CNN)"
      ],
      "metadata": {
        "id": "VV7YYDpk65Je"
      }
    },
    {
      "cell_type": "code",
      "source": [
        ", Flatten\n",
        "from keras.src.layers import Conv2D\n",
        "num_class =len(class_dict)\n",
        "model = Sequential([\n",
        "    layers.Rescaling(1./255,input_shape=(256,256,3)),\n",
        "    layers.Conv2D(16,3,padding='same',activation=\"relu\"),\n",
        "    layers.MaxPooling2D(),\n",
        "    layers.Conv2D(64,3,padding='same',activation=\"relu\"),\n",
        "    layers.MaxPooling2D(),\n",
        "    layers.Flatten(),\n",
        "    layers.Dense(128,activation=\"relu\"),\n",
        "    layers.Dense(num_class)\n",
        "                    ])"
      ],
      "metadata": {
        "id": "KL_8nEhd6v-o"
      },
      "execution_count": 53,
      "outputs": []
    },
    {
      "cell_type": "code",
      "source": [
        "from sqlalchemy.sql.operators import from_\n",
        "model.compile(optimizer='adam',\n",
        "             loss=tf.keras.losses.CategoricalCrossentropy(from_logits=True),\n",
        "             metrics=['accuracy'])"
      ],
      "metadata": {
        "id": "wX8Mj4Me8fS7"
      },
      "execution_count": 59,
      "outputs": []
    },
    {
      "cell_type": "code",
      "source": [
        "model.summary()"
      ],
      "metadata": {
        "colab": {
          "base_uri": "https://localhost:8080/"
        },
        "id": "2bOIN1909RcS",
        "outputId": "79dbf575-b2fb-487a-ccf8-7db023bd0f47"
      },
      "execution_count": 60,
      "outputs": [
        {
          "output_type": "stream",
          "name": "stdout",
          "text": [
            "Model: \"sequential_1\"\n",
            "_________________________________________________________________\n",
            " Layer (type)                Output Shape              Param #   \n",
            "=================================================================\n",
            " rescaling_1 (Rescaling)     (None, 256, 256, 3)       0         \n",
            "                                                                 \n",
            " conv2d_2 (Conv2D)           (None, 256, 256, 16)      448       \n",
            "                                                                 \n",
            " max_pooling2d_2 (MaxPoolin  (None, 128, 128, 16)      0         \n",
            " g2D)                                                            \n",
            "                                                                 \n",
            " conv2d_3 (Conv2D)           (None, 128, 128, 64)      9280      \n",
            "                                                                 \n",
            " max_pooling2d_3 (MaxPoolin  (None, 64, 64, 64)        0         \n",
            " g2D)                                                            \n",
            "                                                                 \n",
            " flatten_1 (Flatten)         (None, 262144)            0         \n",
            "                                                                 \n",
            " dense_2 (Dense)             (None, 128)               33554560  \n",
            "                                                                 \n",
            " dense_3 (Dense)             (None, 4)                 516       \n",
            "                                                                 \n",
            "=================================================================\n",
            "Total params: 33564804 (128.04 MB)\n",
            "Trainable params: 33564804 (128.04 MB)\n",
            "Non-trainable params: 0 (0.00 Byte)\n",
            "_________________________________________________________________\n"
          ]
        }
      ]
    },
    {
      "cell_type": "markdown",
      "source": [
        "Now training our model using epochs=20"
      ],
      "metadata": {
        "id": "vTBmyrjq9_dr"
      }
    },
    {
      "cell_type": "code",
      "source": [
        "epochs=10\n",
        "history =model.fit(train_generator,epochs=20)"
      ],
      "metadata": {
        "colab": {
          "base_uri": "https://localhost:8080/",
          "height": 1000
        },
        "id": "3YRqxZgW96eK",
        "outputId": "e135e1a2-bb4c-44bb-f44c-bd644f25757e"
      },
      "execution_count": 64,
      "outputs": [
        {
          "output_type": "stream",
          "name": "stdout",
          "text": [
            "Epoch 1/20\n"
          ]
        },
        {
          "output_type": "error",
          "ename": "InvalidArgumentError",
          "evalue": "ignored",
          "traceback": [
            "\u001b[0;31m---------------------------------------------------------------------------\u001b[0m",
            "\u001b[0;31mInvalidArgumentError\u001b[0m                      Traceback (most recent call last)",
            "\u001b[0;32m<ipython-input-64-7f6ad0648ac5>\u001b[0m in \u001b[0;36m<cell line: 2>\u001b[0;34m()\u001b[0m\n\u001b[1;32m      1\u001b[0m \u001b[0mepochs\u001b[0m\u001b[0;34m=\u001b[0m\u001b[0;36m10\u001b[0m\u001b[0;34m\u001b[0m\u001b[0;34m\u001b[0m\u001b[0m\n\u001b[0;32m----> 2\u001b[0;31m \u001b[0mhistory\u001b[0m \u001b[0;34m=\u001b[0m\u001b[0mmodel\u001b[0m\u001b[0;34m.\u001b[0m\u001b[0mfit\u001b[0m\u001b[0;34m(\u001b[0m\u001b[0mtrain_generator\u001b[0m\u001b[0;34m,\u001b[0m\u001b[0mepochs\u001b[0m\u001b[0;34m=\u001b[0m\u001b[0;36m20\u001b[0m\u001b[0;34m)\u001b[0m\u001b[0;34m\u001b[0m\u001b[0;34m\u001b[0m\u001b[0m\n\u001b[0m",
            "\u001b[0;32m/usr/local/lib/python3.10/dist-packages/keras/src/utils/traceback_utils.py\u001b[0m in \u001b[0;36merror_handler\u001b[0;34m(*args, **kwargs)\u001b[0m\n\u001b[1;32m     68\u001b[0m             \u001b[0;31m# To get the full stack trace, call:\u001b[0m\u001b[0;34m\u001b[0m\u001b[0;34m\u001b[0m\u001b[0m\n\u001b[1;32m     69\u001b[0m             \u001b[0;31m# `tf.debugging.disable_traceback_filtering()`\u001b[0m\u001b[0;34m\u001b[0m\u001b[0;34m\u001b[0m\u001b[0m\n\u001b[0;32m---> 70\u001b[0;31m             \u001b[0;32mraise\u001b[0m \u001b[0me\u001b[0m\u001b[0;34m.\u001b[0m\u001b[0mwith_traceback\u001b[0m\u001b[0;34m(\u001b[0m\u001b[0mfiltered_tb\u001b[0m\u001b[0;34m)\u001b[0m \u001b[0;32mfrom\u001b[0m \u001b[0;32mNone\u001b[0m\u001b[0;34m\u001b[0m\u001b[0;34m\u001b[0m\u001b[0m\n\u001b[0m\u001b[1;32m     71\u001b[0m         \u001b[0;32mfinally\u001b[0m\u001b[0;34m:\u001b[0m\u001b[0;34m\u001b[0m\u001b[0;34m\u001b[0m\u001b[0m\n\u001b[1;32m     72\u001b[0m             \u001b[0;32mdel\u001b[0m \u001b[0mfiltered_tb\u001b[0m\u001b[0;34m\u001b[0m\u001b[0;34m\u001b[0m\u001b[0m\n",
            "\u001b[0;32m/usr/local/lib/python3.10/dist-packages/tensorflow/python/eager/execute.py\u001b[0m in \u001b[0;36mquick_execute\u001b[0;34m(op_name, num_outputs, inputs, attrs, ctx, name)\u001b[0m\n\u001b[1;32m     51\u001b[0m   \u001b[0;32mtry\u001b[0m\u001b[0;34m:\u001b[0m\u001b[0;34m\u001b[0m\u001b[0;34m\u001b[0m\u001b[0m\n\u001b[1;32m     52\u001b[0m     \u001b[0mctx\u001b[0m\u001b[0;34m.\u001b[0m\u001b[0mensure_initialized\u001b[0m\u001b[0;34m(\u001b[0m\u001b[0;34m)\u001b[0m\u001b[0;34m\u001b[0m\u001b[0;34m\u001b[0m\u001b[0m\n\u001b[0;32m---> 53\u001b[0;31m     tensors = pywrap_tfe.TFE_Py_Execute(ctx._handle, device_name, op_name,\n\u001b[0m\u001b[1;32m     54\u001b[0m                                         inputs, attrs, num_outputs)\n\u001b[1;32m     55\u001b[0m   \u001b[0;32mexcept\u001b[0m \u001b[0mcore\u001b[0m\u001b[0;34m.\u001b[0m\u001b[0m_NotOkStatusException\u001b[0m \u001b[0;32mas\u001b[0m \u001b[0me\u001b[0m\u001b[0;34m:\u001b[0m\u001b[0;34m\u001b[0m\u001b[0;34m\u001b[0m\u001b[0m\n",
            "\u001b[0;31mInvalidArgumentError\u001b[0m: Graph execution error:\n\nDetected at node 'sequential_1/dense_2/Relu' defined at (most recent call last):\n    File \"/usr/lib/python3.10/runpy.py\", line 196, in _run_module_as_main\n      return _run_code(code, main_globals, None,\n    File \"/usr/lib/python3.10/runpy.py\", line 86, in _run_code\n      exec(code, run_globals)\n    File \"/usr/local/lib/python3.10/dist-packages/colab_kernel_launcher.py\", line 37, in <module>\n      ColabKernelApp.launch_instance()\n    File \"/usr/local/lib/python3.10/dist-packages/traitlets/config/application.py\", line 992, in launch_instance\n      app.start()\n    File \"/usr/local/lib/python3.10/dist-packages/ipykernel/kernelapp.py\", line 619, in start\n      self.io_loop.start()\n    File \"/usr/local/lib/python3.10/dist-packages/tornado/platform/asyncio.py\", line 195, in start\n      self.asyncio_loop.run_forever()\n    File \"/usr/lib/python3.10/asyncio/base_events.py\", line 603, in run_forever\n      self._run_once()\n    File \"/usr/lib/python3.10/asyncio/base_events.py\", line 1909, in _run_once\n      handle._run()\n    File \"/usr/lib/python3.10/asyncio/events.py\", line 80, in _run\n      self._context.run(self._callback, *self._args)\n    File \"/usr/local/lib/python3.10/dist-packages/tornado/ioloop.py\", line 685, in <lambda>\n      lambda f: self._run_callback(functools.partial(callback, future))\n    File \"/usr/local/lib/python3.10/dist-packages/tornado/ioloop.py\", line 738, in _run_callback\n      ret = callback()\n    File \"/usr/local/lib/python3.10/dist-packages/tornado/gen.py\", line 825, in inner\n      self.ctx_run(self.run)\n    File \"/usr/local/lib/python3.10/dist-packages/tornado/gen.py\", line 786, in run\n      yielded = self.gen.send(value)\n    File \"/usr/local/lib/python3.10/dist-packages/ipykernel/kernelbase.py\", line 361, in process_one\n      yield gen.maybe_future(dispatch(*args))\n    File \"/usr/local/lib/python3.10/dist-packages/tornado/gen.py\", line 234, in wrapper\n      yielded = ctx_run(next, result)\n    File \"/usr/local/lib/python3.10/dist-packages/ipykernel/kernelbase.py\", line 261, in dispatch_shell\n      yield gen.maybe_future(handler(stream, idents, msg))\n    File \"/usr/local/lib/python3.10/dist-packages/tornado/gen.py\", line 234, in wrapper\n      yielded = ctx_run(next, result)\n    File \"/usr/local/lib/python3.10/dist-packages/ipykernel/kernelbase.py\", line 539, in execute_request\n      self.do_execute(\n    File \"/usr/local/lib/python3.10/dist-packages/tornado/gen.py\", line 234, in wrapper\n      yielded = ctx_run(next, result)\n    File \"/usr/local/lib/python3.10/dist-packages/ipykernel/ipkernel.py\", line 302, in do_execute\n      res = shell.run_cell(code, store_history=store_history, silent=silent)\n    File \"/usr/local/lib/python3.10/dist-packages/ipykernel/zmqshell.py\", line 539, in run_cell\n      return super(ZMQInteractiveShell, self).run_cell(*args, **kwargs)\n    File \"/usr/local/lib/python3.10/dist-packages/IPython/core/interactiveshell.py\", line 2975, in run_cell\n      result = self._run_cell(\n    File \"/usr/local/lib/python3.10/dist-packages/IPython/core/interactiveshell.py\", line 3030, in _run_cell\n      return runner(coro)\n    File \"/usr/local/lib/python3.10/dist-packages/IPython/core/async_helpers.py\", line 78, in _pseudo_sync_runner\n      coro.send(None)\n    File \"/usr/local/lib/python3.10/dist-packages/IPython/core/interactiveshell.py\", line 3257, in run_cell_async\n      has_raised = await self.run_ast_nodes(code_ast.body, cell_name,\n    File \"/usr/local/lib/python3.10/dist-packages/IPython/core/interactiveshell.py\", line 3473, in run_ast_nodes\n      if (await self.run_code(code, result,  async_=asy)):\n    File \"/usr/local/lib/python3.10/dist-packages/IPython/core/interactiveshell.py\", line 3553, in run_code\n      exec(code_obj, self.user_global_ns, self.user_ns)\n    File \"<ipython-input-61-cc09e26e55a3>\", line 2, in <cell line: 2>\n      history = model.fit(train_generator,epochs=epochs)\n    File \"/usr/local/lib/python3.10/dist-packages/keras/src/utils/traceback_utils.py\", line 65, in error_handler\n      return fn(*args, **kwargs)\n    File \"/usr/local/lib/python3.10/dist-packages/keras/src/engine/training.py\", line 1742, in fit\n      tmp_logs = self.train_function(iterator)\n    File \"/usr/local/lib/python3.10/dist-packages/keras/src/engine/training.py\", line 1338, in train_function\n      return step_function(self, iterator)\n    File \"/usr/local/lib/python3.10/dist-packages/keras/src/engine/training.py\", line 1322, in step_function\n      outputs = model.distribute_strategy.run(run_step, args=(data,))\n    File \"/usr/local/lib/python3.10/dist-packages/keras/src/engine/training.py\", line 1303, in run_step\n      outputs = model.train_step(data)\n    File \"/usr/local/lib/python3.10/dist-packages/keras/src/engine/training.py\", line 1080, in train_step\n      y_pred = self(x, training=True)\n    File \"/usr/local/lib/python3.10/dist-packages/keras/src/utils/traceback_utils.py\", line 65, in error_handler\n      return fn(*args, **kwargs)\n    File \"/usr/local/lib/python3.10/dist-packages/keras/src/engine/training.py\", line 569, in __call__\n      return super().__call__(*args, **kwargs)\n    File \"/usr/local/lib/python3.10/dist-packages/keras/src/utils/traceback_utils.py\", line 65, in error_handler\n      return fn(*args, **kwargs)\n    File \"/usr/local/lib/python3.10/dist-packages/keras/src/engine/base_layer.py\", line 1150, in __call__\n      outputs = call_fn(inputs, *args, **kwargs)\n    File \"/usr/local/lib/python3.10/dist-packages/keras/src/utils/traceback_utils.py\", line 96, in error_handler\n      return fn(*args, **kwargs)\n    File \"/usr/local/lib/python3.10/dist-packages/keras/src/engine/sequential.py\", line 405, in call\n      return super().call(inputs, training=training, mask=mask)\n    File \"/usr/local/lib/python3.10/dist-packages/keras/src/engine/functional.py\", line 512, in call\n      return self._run_internal_graph(inputs, training=training, mask=mask)\n    File \"/usr/local/lib/python3.10/dist-packages/keras/src/engine/functional.py\", line 669, in _run_internal_graph\n      outputs = node.layer(*args, **kwargs)\n    File \"/usr/local/lib/python3.10/dist-packages/keras/src/utils/traceback_utils.py\", line 65, in error_handler\n      return fn(*args, **kwargs)\n    File \"/usr/local/lib/python3.10/dist-packages/keras/src/engine/base_layer.py\", line 1150, in __call__\n      outputs = call_fn(inputs, *args, **kwargs)\n    File \"/usr/local/lib/python3.10/dist-packages/keras/src/utils/traceback_utils.py\", line 96, in error_handler\n      return fn(*args, **kwargs)\n    File \"/usr/local/lib/python3.10/dist-packages/keras/src/layers/core/dense.py\", line 255, in call\n      outputs = self.activation(outputs)\n    File \"/usr/local/lib/python3.10/dist-packages/keras/src/activations.py\", line 321, in relu\n      return backend.relu(\n    File \"/usr/local/lib/python3.10/dist-packages/keras/src/backend.py\", line 5397, in relu\n      x = tf.nn.relu(x)\nNode: 'sequential_1/dense_2/Relu'\nMatrix size-incompatible: In[0]: [32,2621440], In[1]: [262144,128]\n\t [[{{node sequential_1/dense_2/Relu}}]] [Op:__inference_train_function_1408]"
          ]
        }
      ]
    },
    {
      "cell_type": "code",
      "source": [
        "data_argumentation = tf.keras.Sequential([\n",
        "    layers.RandomFlip(\"horizontal_and_vertical\"),\n",
        "    layers.RandomRotation(0.2)\n",
        "])"
      ],
      "metadata": {
        "id": "bSuf2Wc_-R6S"
      },
      "execution_count": 67,
      "outputs": []
    },
    {
      "cell_type": "code",
      "source": [
        "model = Sequential([\n",
        "    layers.Rescaling(1./255,input_shape=(256,256,3)),\n",
        "    data_argumentation,\n",
        "    layers.Conv2D(16,3,padding='same',activation=\"relu\"),\n",
        "    layers.MaxPooling2D(),\n",
        "    layers.Conv2D(64,3,padding='same',activation=\"relu\"),\n",
        "    layers.MaxPooling2D(),\n",
        "    layers.Flatten(),\n",
        "    layers.Dense(128,activation=\"relu\"),\n",
        "    layers.Dense(num_class)\n",
        "                    ])"
      ],
      "metadata": {
        "id": "XbkUNLcaA3lu"
      },
      "execution_count": 68,
      "outputs": []
    },
    {
      "cell_type": "code",
      "source": [
        "model.compile(optimizer='adam',\n",
        "             loss=tf.keras.losses.CategoricalCrossentropy(from_logits=True),\n",
        "             metrics=['accuracy'])"
      ],
      "metadata": {
        "id": "Dqx0WtAJBdTk"
      },
      "execution_count": 69,
      "outputs": []
    },
    {
      "cell_type": "code",
      "source": [
        "model.summary()"
      ],
      "metadata": {
        "id": "b7upOWWyB1mn",
        "outputId": "5941a1bb-9ddc-4c1d-b259-1797569a898d",
        "colab": {
          "base_uri": "https://localhost:8080/"
        }
      },
      "execution_count": 70,
      "outputs": [
        {
          "output_type": "stream",
          "name": "stdout",
          "text": [
            "Model: \"sequential_3\"\n",
            "_________________________________________________________________\n",
            " Layer (type)                Output Shape              Param #   \n",
            "=================================================================\n",
            " rescaling_2 (Rescaling)     (None, 256, 256, 3)       0         \n",
            "                                                                 \n",
            " sequential_2 (Sequential)   (None, 256, 256, 3)       0         \n",
            "                                                                 \n",
            " conv2d_4 (Conv2D)           (None, 256, 256, 16)      448       \n",
            "                                                                 \n",
            " max_pooling2d_4 (MaxPoolin  (None, 128, 128, 16)      0         \n",
            " g2D)                                                            \n",
            "                                                                 \n",
            " conv2d_5 (Conv2D)           (None, 128, 128, 64)      9280      \n",
            "                                                                 \n",
            " max_pooling2d_5 (MaxPoolin  (None, 64, 64, 64)        0         \n",
            " g2D)                                                            \n",
            "                                                                 \n",
            " flatten_2 (Flatten)         (None, 262144)            0         \n",
            "                                                                 \n",
            " dense_4 (Dense)             (None, 128)               33554560  \n",
            "                                                                 \n",
            " dense_5 (Dense)             (None, 4)                 516       \n",
            "                                                                 \n",
            "=================================================================\n",
            "Total params: 33564804 (128.04 MB)\n",
            "Trainable params: 33564804 (128.04 MB)\n",
            "Non-trainable params: 0 (0.00 Byte)\n",
            "_________________________________________________________________\n"
          ]
        }
      ]
    },
    {
      "cell_type": "markdown",
      "source": [
        "Now training all data"
      ],
      "metadata": {
        "id": "XYUgC_3iCAyU"
      }
    },
    {
      "cell_type": "code",
      "source": [
        "model.evaluate(test_generator)"
      ],
      "metadata": {
        "id": "9F9cKvKhB4ox",
        "outputId": "9f8738b6-ca4c-4c87-efc0-9ae10092fb11",
        "colab": {
          "base_uri": "https://localhost:8080/",
          "height": 1000
        }
      },
      "execution_count": 71,
      "outputs": [
        {
          "output_type": "error",
          "ename": "InvalidArgumentError",
          "evalue": "ignored",
          "traceback": [
            "\u001b[0;31m---------------------------------------------------------------------------\u001b[0m",
            "\u001b[0;31mInvalidArgumentError\u001b[0m                      Traceback (most recent call last)",
            "\u001b[0;32m<ipython-input-71-52f55913fcee>\u001b[0m in \u001b[0;36m<cell line: 1>\u001b[0;34m()\u001b[0m\n\u001b[0;32m----> 1\u001b[0;31m \u001b[0mmodel\u001b[0m\u001b[0;34m.\u001b[0m\u001b[0mevaluate\u001b[0m\u001b[0;34m(\u001b[0m\u001b[0mtest_generator\u001b[0m\u001b[0;34m)\u001b[0m\u001b[0;34m\u001b[0m\u001b[0;34m\u001b[0m\u001b[0m\n\u001b[0m",
            "\u001b[0;32m/usr/local/lib/python3.10/dist-packages/keras/src/utils/traceback_utils.py\u001b[0m in \u001b[0;36merror_handler\u001b[0;34m(*args, **kwargs)\u001b[0m\n\u001b[1;32m     68\u001b[0m             \u001b[0;31m# To get the full stack trace, call:\u001b[0m\u001b[0;34m\u001b[0m\u001b[0;34m\u001b[0m\u001b[0m\n\u001b[1;32m     69\u001b[0m             \u001b[0;31m# `tf.debugging.disable_traceback_filtering()`\u001b[0m\u001b[0;34m\u001b[0m\u001b[0;34m\u001b[0m\u001b[0m\n\u001b[0;32m---> 70\u001b[0;31m             \u001b[0;32mraise\u001b[0m \u001b[0me\u001b[0m\u001b[0;34m.\u001b[0m\u001b[0mwith_traceback\u001b[0m\u001b[0;34m(\u001b[0m\u001b[0mfiltered_tb\u001b[0m\u001b[0;34m)\u001b[0m \u001b[0;32mfrom\u001b[0m \u001b[0;32mNone\u001b[0m\u001b[0;34m\u001b[0m\u001b[0;34m\u001b[0m\u001b[0m\n\u001b[0m\u001b[1;32m     71\u001b[0m         \u001b[0;32mfinally\u001b[0m\u001b[0;34m:\u001b[0m\u001b[0;34m\u001b[0m\u001b[0;34m\u001b[0m\u001b[0m\n\u001b[1;32m     72\u001b[0m             \u001b[0;32mdel\u001b[0m \u001b[0mfiltered_tb\u001b[0m\u001b[0;34m\u001b[0m\u001b[0;34m\u001b[0m\u001b[0m\n",
            "\u001b[0;32m/usr/local/lib/python3.10/dist-packages/tensorflow/python/eager/execute.py\u001b[0m in \u001b[0;36mquick_execute\u001b[0;34m(op_name, num_outputs, inputs, attrs, ctx, name)\u001b[0m\n\u001b[1;32m     51\u001b[0m   \u001b[0;32mtry\u001b[0m\u001b[0;34m:\u001b[0m\u001b[0;34m\u001b[0m\u001b[0;34m\u001b[0m\u001b[0m\n\u001b[1;32m     52\u001b[0m     \u001b[0mctx\u001b[0m\u001b[0;34m.\u001b[0m\u001b[0mensure_initialized\u001b[0m\u001b[0;34m(\u001b[0m\u001b[0;34m)\u001b[0m\u001b[0;34m\u001b[0m\u001b[0;34m\u001b[0m\u001b[0m\n\u001b[0;32m---> 53\u001b[0;31m     tensors = pywrap_tfe.TFE_Py_Execute(ctx._handle, device_name, op_name,\n\u001b[0m\u001b[1;32m     54\u001b[0m                                         inputs, attrs, num_outputs)\n\u001b[1;32m     55\u001b[0m   \u001b[0;32mexcept\u001b[0m \u001b[0mcore\u001b[0m\u001b[0;34m.\u001b[0m\u001b[0m_NotOkStatusException\u001b[0m \u001b[0;32mas\u001b[0m \u001b[0me\u001b[0m\u001b[0;34m:\u001b[0m\u001b[0;34m\u001b[0m\u001b[0;34m\u001b[0m\u001b[0m\n",
            "\u001b[0;31mInvalidArgumentError\u001b[0m: Graph execution error:\n\nDetected at node 'sequential_3/dense_4/Relu' defined at (most recent call last):\n    File \"/usr/lib/python3.10/runpy.py\", line 196, in _run_module_as_main\n      return _run_code(code, main_globals, None,\n    File \"/usr/lib/python3.10/runpy.py\", line 86, in _run_code\n      exec(code, run_globals)\n    File \"/usr/local/lib/python3.10/dist-packages/colab_kernel_launcher.py\", line 37, in <module>\n      ColabKernelApp.launch_instance()\n    File \"/usr/local/lib/python3.10/dist-packages/traitlets/config/application.py\", line 992, in launch_instance\n      app.start()\n    File \"/usr/local/lib/python3.10/dist-packages/ipykernel/kernelapp.py\", line 619, in start\n      self.io_loop.start()\n    File \"/usr/local/lib/python3.10/dist-packages/tornado/platform/asyncio.py\", line 195, in start\n      self.asyncio_loop.run_forever()\n    File \"/usr/lib/python3.10/asyncio/base_events.py\", line 603, in run_forever\n      self._run_once()\n    File \"/usr/lib/python3.10/asyncio/base_events.py\", line 1909, in _run_once\n      handle._run()\n    File \"/usr/lib/python3.10/asyncio/events.py\", line 80, in _run\n      self._context.run(self._callback, *self._args)\n    File \"/usr/local/lib/python3.10/dist-packages/tornado/ioloop.py\", line 685, in <lambda>\n      lambda f: self._run_callback(functools.partial(callback, future))\n    File \"/usr/local/lib/python3.10/dist-packages/tornado/ioloop.py\", line 738, in _run_callback\n      ret = callback()\n    File \"/usr/local/lib/python3.10/dist-packages/tornado/gen.py\", line 825, in inner\n      self.ctx_run(self.run)\n    File \"/usr/local/lib/python3.10/dist-packages/tornado/gen.py\", line 786, in run\n      yielded = self.gen.send(value)\n    File \"/usr/local/lib/python3.10/dist-packages/ipykernel/kernelbase.py\", line 361, in process_one\n      yield gen.maybe_future(dispatch(*args))\n    File \"/usr/local/lib/python3.10/dist-packages/tornado/gen.py\", line 234, in wrapper\n      yielded = ctx_run(next, result)\n    File \"/usr/local/lib/python3.10/dist-packages/ipykernel/kernelbase.py\", line 261, in dispatch_shell\n      yield gen.maybe_future(handler(stream, idents, msg))\n    File \"/usr/local/lib/python3.10/dist-packages/tornado/gen.py\", line 234, in wrapper\n      yielded = ctx_run(next, result)\n    File \"/usr/local/lib/python3.10/dist-packages/ipykernel/kernelbase.py\", line 539, in execute_request\n      self.do_execute(\n    File \"/usr/local/lib/python3.10/dist-packages/tornado/gen.py\", line 234, in wrapper\n      yielded = ctx_run(next, result)\n    File \"/usr/local/lib/python3.10/dist-packages/ipykernel/ipkernel.py\", line 302, in do_execute\n      res = shell.run_cell(code, store_history=store_history, silent=silent)\n    File \"/usr/local/lib/python3.10/dist-packages/ipykernel/zmqshell.py\", line 539, in run_cell\n      return super(ZMQInteractiveShell, self).run_cell(*args, **kwargs)\n    File \"/usr/local/lib/python3.10/dist-packages/IPython/core/interactiveshell.py\", line 2975, in run_cell\n      result = self._run_cell(\n    File \"/usr/local/lib/python3.10/dist-packages/IPython/core/interactiveshell.py\", line 3030, in _run_cell\n      return runner(coro)\n    File \"/usr/local/lib/python3.10/dist-packages/IPython/core/async_helpers.py\", line 78, in _pseudo_sync_runner\n      coro.send(None)\n    File \"/usr/local/lib/python3.10/dist-packages/IPython/core/interactiveshell.py\", line 3257, in run_cell_async\n      has_raised = await self.run_ast_nodes(code_ast.body, cell_name,\n    File \"/usr/local/lib/python3.10/dist-packages/IPython/core/interactiveshell.py\", line 3473, in run_ast_nodes\n      if (await self.run_code(code, result,  async_=asy)):\n    File \"/usr/local/lib/python3.10/dist-packages/IPython/core/interactiveshell.py\", line 3553, in run_code\n      exec(code_obj, self.user_global_ns, self.user_ns)\n    File \"<ipython-input-71-52f55913fcee>\", line 1, in <cell line: 1>\n      model.evaluate(test_generator)\n    File \"/usr/local/lib/python3.10/dist-packages/keras/src/utils/traceback_utils.py\", line 65, in error_handler\n      return fn(*args, **kwargs)\n    File \"/usr/local/lib/python3.10/dist-packages/keras/src/engine/training.py\", line 2200, in evaluate\n      logs = test_function_runner.run_step(\n    File \"/usr/local/lib/python3.10/dist-packages/keras/src/engine/training.py\", line 4000, in run_step\n      tmp_logs = self._function(dataset_or_iterator)\n    File \"/usr/local/lib/python3.10/dist-packages/keras/src/engine/training.py\", line 1972, in test_function\n      return step_function(self, iterator)\n    File \"/usr/local/lib/python3.10/dist-packages/keras/src/engine/training.py\", line 1956, in step_function\n      outputs = model.distribute_strategy.run(run_step, args=(data,))\n    File \"/usr/local/lib/python3.10/dist-packages/keras/src/engine/training.py\", line 1944, in run_step\n      outputs = model.test_step(data)\n    File \"/usr/local/lib/python3.10/dist-packages/keras/src/engine/training.py\", line 1850, in test_step\n      y_pred = self(x, training=False)\n    File \"/usr/local/lib/python3.10/dist-packages/keras/src/utils/traceback_utils.py\", line 65, in error_handler\n      return fn(*args, **kwargs)\n    File \"/usr/local/lib/python3.10/dist-packages/keras/src/engine/training.py\", line 569, in __call__\n      return super().__call__(*args, **kwargs)\n    File \"/usr/local/lib/python3.10/dist-packages/keras/src/utils/traceback_utils.py\", line 65, in error_handler\n      return fn(*args, **kwargs)\n    File \"/usr/local/lib/python3.10/dist-packages/keras/src/engine/base_layer.py\", line 1150, in __call__\n      outputs = call_fn(inputs, *args, **kwargs)\n    File \"/usr/local/lib/python3.10/dist-packages/keras/src/utils/traceback_utils.py\", line 96, in error_handler\n      return fn(*args, **kwargs)\n    File \"/usr/local/lib/python3.10/dist-packages/keras/src/engine/sequential.py\", line 405, in call\n      return super().call(inputs, training=training, mask=mask)\n    File \"/usr/local/lib/python3.10/dist-packages/keras/src/engine/functional.py\", line 512, in call\n      return self._run_internal_graph(inputs, training=training, mask=mask)\n    File \"/usr/local/lib/python3.10/dist-packages/keras/src/engine/functional.py\", line 669, in _run_internal_graph\n      outputs = node.layer(*args, **kwargs)\n    File \"/usr/local/lib/python3.10/dist-packages/keras/src/utils/traceback_utils.py\", line 65, in error_handler\n      return fn(*args, **kwargs)\n    File \"/usr/local/lib/python3.10/dist-packages/keras/src/engine/base_layer.py\", line 1150, in __call__\n      outputs = call_fn(inputs, *args, **kwargs)\n    File \"/usr/local/lib/python3.10/dist-packages/keras/src/utils/traceback_utils.py\", line 96, in error_handler\n      return fn(*args, **kwargs)\n    File \"/usr/local/lib/python3.10/dist-packages/keras/src/layers/core/dense.py\", line 255, in call\n      outputs = self.activation(outputs)\n    File \"/usr/local/lib/python3.10/dist-packages/keras/src/activations.py\", line 321, in relu\n      return backend.relu(\n    File \"/usr/local/lib/python3.10/dist-packages/keras/src/backend.py\", line 5397, in relu\n      x = tf.nn.relu(x)\nNode: 'sequential_3/dense_4/Relu'\nMatrix size-incompatible: In[0]: [32,2621440], In[1]: [262144,128]\n\t [[{{node sequential_3/dense_4/Relu}}]] [Op:__inference_test_function_2526]"
          ]
        }
      ]
    },
    {
      "cell_type": "code",
      "source": [
        "model.predict(test_generator)"
      ],
      "metadata": {
        "id": "60yLkWl3CKA1",
        "outputId": "1c07490d-7bfe-4f88-c75b-119a217acbe3",
        "colab": {
          "base_uri": "https://localhost:8080/",
          "height": 1000
        }
      },
      "execution_count": 72,
      "outputs": [
        {
          "output_type": "error",
          "ename": "InvalidArgumentError",
          "evalue": "ignored",
          "traceback": [
            "\u001b[0;31m---------------------------------------------------------------------------\u001b[0m",
            "\u001b[0;31mInvalidArgumentError\u001b[0m                      Traceback (most recent call last)",
            "\u001b[0;32m<ipython-input-72-648a460958b5>\u001b[0m in \u001b[0;36m<cell line: 1>\u001b[0;34m()\u001b[0m\n\u001b[0;32m----> 1\u001b[0;31m \u001b[0mmodel\u001b[0m\u001b[0;34m.\u001b[0m\u001b[0mpredict\u001b[0m\u001b[0;34m(\u001b[0m\u001b[0mtest_generator\u001b[0m\u001b[0;34m)\u001b[0m\u001b[0;34m\u001b[0m\u001b[0;34m\u001b[0m\u001b[0m\n\u001b[0m",
            "\u001b[0;32m/usr/local/lib/python3.10/dist-packages/keras/src/utils/traceback_utils.py\u001b[0m in \u001b[0;36merror_handler\u001b[0;34m(*args, **kwargs)\u001b[0m\n\u001b[1;32m     68\u001b[0m             \u001b[0;31m# To get the full stack trace, call:\u001b[0m\u001b[0;34m\u001b[0m\u001b[0;34m\u001b[0m\u001b[0m\n\u001b[1;32m     69\u001b[0m             \u001b[0;31m# `tf.debugging.disable_traceback_filtering()`\u001b[0m\u001b[0;34m\u001b[0m\u001b[0;34m\u001b[0m\u001b[0m\n\u001b[0;32m---> 70\u001b[0;31m             \u001b[0;32mraise\u001b[0m \u001b[0me\u001b[0m\u001b[0;34m.\u001b[0m\u001b[0mwith_traceback\u001b[0m\u001b[0;34m(\u001b[0m\u001b[0mfiltered_tb\u001b[0m\u001b[0;34m)\u001b[0m \u001b[0;32mfrom\u001b[0m \u001b[0;32mNone\u001b[0m\u001b[0;34m\u001b[0m\u001b[0;34m\u001b[0m\u001b[0m\n\u001b[0m\u001b[1;32m     71\u001b[0m         \u001b[0;32mfinally\u001b[0m\u001b[0;34m:\u001b[0m\u001b[0;34m\u001b[0m\u001b[0;34m\u001b[0m\u001b[0m\n\u001b[1;32m     72\u001b[0m             \u001b[0;32mdel\u001b[0m \u001b[0mfiltered_tb\u001b[0m\u001b[0;34m\u001b[0m\u001b[0;34m\u001b[0m\u001b[0m\n",
            "\u001b[0;32m/usr/local/lib/python3.10/dist-packages/tensorflow/python/eager/execute.py\u001b[0m in \u001b[0;36mquick_execute\u001b[0;34m(op_name, num_outputs, inputs, attrs, ctx, name)\u001b[0m\n\u001b[1;32m     51\u001b[0m   \u001b[0;32mtry\u001b[0m\u001b[0;34m:\u001b[0m\u001b[0;34m\u001b[0m\u001b[0;34m\u001b[0m\u001b[0m\n\u001b[1;32m     52\u001b[0m     \u001b[0mctx\u001b[0m\u001b[0;34m.\u001b[0m\u001b[0mensure_initialized\u001b[0m\u001b[0;34m(\u001b[0m\u001b[0;34m)\u001b[0m\u001b[0;34m\u001b[0m\u001b[0;34m\u001b[0m\u001b[0m\n\u001b[0;32m---> 53\u001b[0;31m     tensors = pywrap_tfe.TFE_Py_Execute(ctx._handle, device_name, op_name,\n\u001b[0m\u001b[1;32m     54\u001b[0m                                         inputs, attrs, num_outputs)\n\u001b[1;32m     55\u001b[0m   \u001b[0;32mexcept\u001b[0m \u001b[0mcore\u001b[0m\u001b[0;34m.\u001b[0m\u001b[0m_NotOkStatusException\u001b[0m \u001b[0;32mas\u001b[0m \u001b[0me\u001b[0m\u001b[0;34m:\u001b[0m\u001b[0;34m\u001b[0m\u001b[0;34m\u001b[0m\u001b[0m\n",
            "\u001b[0;31mInvalidArgumentError\u001b[0m: Graph execution error:\n\nDetected at node 'sequential_3/dense_4/Relu' defined at (most recent call last):\n    File \"/usr/lib/python3.10/runpy.py\", line 196, in _run_module_as_main\n      return _run_code(code, main_globals, None,\n    File \"/usr/lib/python3.10/runpy.py\", line 86, in _run_code\n      exec(code, run_globals)\n    File \"/usr/local/lib/python3.10/dist-packages/colab_kernel_launcher.py\", line 37, in <module>\n      ColabKernelApp.launch_instance()\n    File \"/usr/local/lib/python3.10/dist-packages/traitlets/config/application.py\", line 992, in launch_instance\n      app.start()\n    File \"/usr/local/lib/python3.10/dist-packages/ipykernel/kernelapp.py\", line 619, in start\n      self.io_loop.start()\n    File \"/usr/local/lib/python3.10/dist-packages/tornado/platform/asyncio.py\", line 195, in start\n      self.asyncio_loop.run_forever()\n    File \"/usr/lib/python3.10/asyncio/base_events.py\", line 603, in run_forever\n      self._run_once()\n    File \"/usr/lib/python3.10/asyncio/base_events.py\", line 1909, in _run_once\n      handle._run()\n    File \"/usr/lib/python3.10/asyncio/events.py\", line 80, in _run\n      self._context.run(self._callback, *self._args)\n    File \"/usr/local/lib/python3.10/dist-packages/tornado/ioloop.py\", line 685, in <lambda>\n      lambda f: self._run_callback(functools.partial(callback, future))\n    File \"/usr/local/lib/python3.10/dist-packages/tornado/ioloop.py\", line 738, in _run_callback\n      ret = callback()\n    File \"/usr/local/lib/python3.10/dist-packages/tornado/gen.py\", line 825, in inner\n      self.ctx_run(self.run)\n    File \"/usr/local/lib/python3.10/dist-packages/tornado/gen.py\", line 786, in run\n      yielded = self.gen.send(value)\n    File \"/usr/local/lib/python3.10/dist-packages/ipykernel/kernelbase.py\", line 361, in process_one\n      yield gen.maybe_future(dispatch(*args))\n    File \"/usr/local/lib/python3.10/dist-packages/tornado/gen.py\", line 234, in wrapper\n      yielded = ctx_run(next, result)\n    File \"/usr/local/lib/python3.10/dist-packages/ipykernel/kernelbase.py\", line 261, in dispatch_shell\n      yield gen.maybe_future(handler(stream, idents, msg))\n    File \"/usr/local/lib/python3.10/dist-packages/tornado/gen.py\", line 234, in wrapper\n      yielded = ctx_run(next, result)\n    File \"/usr/local/lib/python3.10/dist-packages/ipykernel/kernelbase.py\", line 539, in execute_request\n      self.do_execute(\n    File \"/usr/local/lib/python3.10/dist-packages/tornado/gen.py\", line 234, in wrapper\n      yielded = ctx_run(next, result)\n    File \"/usr/local/lib/python3.10/dist-packages/ipykernel/ipkernel.py\", line 302, in do_execute\n      res = shell.run_cell(code, store_history=store_history, silent=silent)\n    File \"/usr/local/lib/python3.10/dist-packages/ipykernel/zmqshell.py\", line 539, in run_cell\n      return super(ZMQInteractiveShell, self).run_cell(*args, **kwargs)\n    File \"/usr/local/lib/python3.10/dist-packages/IPython/core/interactiveshell.py\", line 2975, in run_cell\n      result = self._run_cell(\n    File \"/usr/local/lib/python3.10/dist-packages/IPython/core/interactiveshell.py\", line 3030, in _run_cell\n      return runner(coro)\n    File \"/usr/local/lib/python3.10/dist-packages/IPython/core/async_helpers.py\", line 78, in _pseudo_sync_runner\n      coro.send(None)\n    File \"/usr/local/lib/python3.10/dist-packages/IPython/core/interactiveshell.py\", line 3257, in run_cell_async\n      has_raised = await self.run_ast_nodes(code_ast.body, cell_name,\n    File \"/usr/local/lib/python3.10/dist-packages/IPython/core/interactiveshell.py\", line 3473, in run_ast_nodes\n      if (await self.run_code(code, result,  async_=asy)):\n    File \"/usr/local/lib/python3.10/dist-packages/IPython/core/interactiveshell.py\", line 3553, in run_code\n      exec(code_obj, self.user_global_ns, self.user_ns)\n    File \"<ipython-input-72-648a460958b5>\", line 1, in <cell line: 1>\n      model.predict(test_generator)\n    File \"/usr/local/lib/python3.10/dist-packages/keras/src/utils/traceback_utils.py\", line 65, in error_handler\n      return fn(*args, **kwargs)\n    File \"/usr/local/lib/python3.10/dist-packages/keras/src/engine/training.py\", line 2554, in predict\n      tmp_batch_outputs = self.predict_function(iterator)\n    File \"/usr/local/lib/python3.10/dist-packages/keras/src/engine/training.py\", line 2341, in predict_function\n      return step_function(self, iterator)\n    File \"/usr/local/lib/python3.10/dist-packages/keras/src/engine/training.py\", line 2327, in step_function\n      outputs = model.distribute_strategy.run(run_step, args=(data,))\n    File \"/usr/local/lib/python3.10/dist-packages/keras/src/engine/training.py\", line 2315, in run_step\n      outputs = model.predict_step(data)\n    File \"/usr/local/lib/python3.10/dist-packages/keras/src/engine/training.py\", line 2283, in predict_step\n      return self(x, training=False)\n    File \"/usr/local/lib/python3.10/dist-packages/keras/src/utils/traceback_utils.py\", line 65, in error_handler\n      return fn(*args, **kwargs)\n    File \"/usr/local/lib/python3.10/dist-packages/keras/src/engine/training.py\", line 569, in __call__\n      return super().__call__(*args, **kwargs)\n    File \"/usr/local/lib/python3.10/dist-packages/keras/src/utils/traceback_utils.py\", line 65, in error_handler\n      return fn(*args, **kwargs)\n    File \"/usr/local/lib/python3.10/dist-packages/keras/src/engine/base_layer.py\", line 1150, in __call__\n      outputs = call_fn(inputs, *args, **kwargs)\n    File \"/usr/local/lib/python3.10/dist-packages/keras/src/utils/traceback_utils.py\", line 96, in error_handler\n      return fn(*args, **kwargs)\n    File \"/usr/local/lib/python3.10/dist-packages/keras/src/engine/sequential.py\", line 405, in call\n      return super().call(inputs, training=training, mask=mask)\n    File \"/usr/local/lib/python3.10/dist-packages/keras/src/engine/functional.py\", line 512, in call\n      return self._run_internal_graph(inputs, training=training, mask=mask)\n    File \"/usr/local/lib/python3.10/dist-packages/keras/src/engine/functional.py\", line 669, in _run_internal_graph\n      outputs = node.layer(*args, **kwargs)\n    File \"/usr/local/lib/python3.10/dist-packages/keras/src/utils/traceback_utils.py\", line 65, in error_handler\n      return fn(*args, **kwargs)\n    File \"/usr/local/lib/python3.10/dist-packages/keras/src/engine/base_layer.py\", line 1150, in __call__\n      outputs = call_fn(inputs, *args, **kwargs)\n    File \"/usr/local/lib/python3.10/dist-packages/keras/src/utils/traceback_utils.py\", line 96, in error_handler\n      return fn(*args, **kwargs)\n    File \"/usr/local/lib/python3.10/dist-packages/keras/src/layers/core/dense.py\", line 255, in call\n      outputs = self.activation(outputs)\n    File \"/usr/local/lib/python3.10/dist-packages/keras/src/activations.py\", line 321, in relu\n      return backend.relu(\n    File \"/usr/local/lib/python3.10/dist-packages/keras/src/backend.py\", line 5397, in relu\n      x = tf.nn.relu(x)\nNode: 'sequential_3/dense_4/Relu'\nMatrix size-incompatible: In[0]: [32,2621440], In[1]: [262144,128]\n\t [[{{node sequential_3/dense_4/Relu}}]] [Op:__inference_predict_function_2621]"
          ]
        }
      ]
    },
    {
      "cell_type": "code",
      "source": [
        "epochs=20\n",
        "history = model.fit(train_generator,epochs=epochs)"
      ],
      "metadata": {
        "id": "8WflG-voCUn-",
        "outputId": "bd131472-39b2-469b-918e-202f5b964e35",
        "colab": {
          "base_uri": "https://localhost:8080/",
          "height": 1000
        }
      },
      "execution_count": 73,
      "outputs": [
        {
          "output_type": "stream",
          "name": "stdout",
          "text": [
            "Epoch 1/20\n"
          ]
        },
        {
          "output_type": "error",
          "ename": "InvalidArgumentError",
          "evalue": "ignored",
          "traceback": [
            "\u001b[0;31m---------------------------------------------------------------------------\u001b[0m",
            "\u001b[0;31mInvalidArgumentError\u001b[0m                      Traceback (most recent call last)",
            "\u001b[0;32m<ipython-input-73-cc09e26e55a3>\u001b[0m in \u001b[0;36m<cell line: 2>\u001b[0;34m()\u001b[0m\n\u001b[1;32m      1\u001b[0m \u001b[0mepochs\u001b[0m\u001b[0;34m=\u001b[0m\u001b[0;36m20\u001b[0m\u001b[0;34m\u001b[0m\u001b[0;34m\u001b[0m\u001b[0m\n\u001b[0;32m----> 2\u001b[0;31m \u001b[0mhistory\u001b[0m \u001b[0;34m=\u001b[0m \u001b[0mmodel\u001b[0m\u001b[0;34m.\u001b[0m\u001b[0mfit\u001b[0m\u001b[0;34m(\u001b[0m\u001b[0mtrain_generator\u001b[0m\u001b[0;34m,\u001b[0m\u001b[0mepochs\u001b[0m\u001b[0;34m=\u001b[0m\u001b[0mepochs\u001b[0m\u001b[0;34m)\u001b[0m\u001b[0;34m\u001b[0m\u001b[0;34m\u001b[0m\u001b[0m\n\u001b[0m",
            "\u001b[0;32m/usr/local/lib/python3.10/dist-packages/keras/src/utils/traceback_utils.py\u001b[0m in \u001b[0;36merror_handler\u001b[0;34m(*args, **kwargs)\u001b[0m\n\u001b[1;32m     68\u001b[0m             \u001b[0;31m# To get the full stack trace, call:\u001b[0m\u001b[0;34m\u001b[0m\u001b[0;34m\u001b[0m\u001b[0m\n\u001b[1;32m     69\u001b[0m             \u001b[0;31m# `tf.debugging.disable_traceback_filtering()`\u001b[0m\u001b[0;34m\u001b[0m\u001b[0;34m\u001b[0m\u001b[0m\n\u001b[0;32m---> 70\u001b[0;31m             \u001b[0;32mraise\u001b[0m \u001b[0me\u001b[0m\u001b[0;34m.\u001b[0m\u001b[0mwith_traceback\u001b[0m\u001b[0;34m(\u001b[0m\u001b[0mfiltered_tb\u001b[0m\u001b[0;34m)\u001b[0m \u001b[0;32mfrom\u001b[0m \u001b[0;32mNone\u001b[0m\u001b[0;34m\u001b[0m\u001b[0;34m\u001b[0m\u001b[0m\n\u001b[0m\u001b[1;32m     71\u001b[0m         \u001b[0;32mfinally\u001b[0m\u001b[0;34m:\u001b[0m\u001b[0;34m\u001b[0m\u001b[0;34m\u001b[0m\u001b[0m\n\u001b[1;32m     72\u001b[0m             \u001b[0;32mdel\u001b[0m \u001b[0mfiltered_tb\u001b[0m\u001b[0;34m\u001b[0m\u001b[0;34m\u001b[0m\u001b[0m\n",
            "\u001b[0;32m/usr/local/lib/python3.10/dist-packages/tensorflow/python/eager/execute.py\u001b[0m in \u001b[0;36mquick_execute\u001b[0;34m(op_name, num_outputs, inputs, attrs, ctx, name)\u001b[0m\n\u001b[1;32m     51\u001b[0m   \u001b[0;32mtry\u001b[0m\u001b[0;34m:\u001b[0m\u001b[0;34m\u001b[0m\u001b[0;34m\u001b[0m\u001b[0m\n\u001b[1;32m     52\u001b[0m     \u001b[0mctx\u001b[0m\u001b[0;34m.\u001b[0m\u001b[0mensure_initialized\u001b[0m\u001b[0;34m(\u001b[0m\u001b[0;34m)\u001b[0m\u001b[0;34m\u001b[0m\u001b[0;34m\u001b[0m\u001b[0m\n\u001b[0;32m---> 53\u001b[0;31m     tensors = pywrap_tfe.TFE_Py_Execute(ctx._handle, device_name, op_name,\n\u001b[0m\u001b[1;32m     54\u001b[0m                                         inputs, attrs, num_outputs)\n\u001b[1;32m     55\u001b[0m   \u001b[0;32mexcept\u001b[0m \u001b[0mcore\u001b[0m\u001b[0;34m.\u001b[0m\u001b[0m_NotOkStatusException\u001b[0m \u001b[0;32mas\u001b[0m \u001b[0me\u001b[0m\u001b[0;34m:\u001b[0m\u001b[0;34m\u001b[0m\u001b[0;34m\u001b[0m\u001b[0m\n",
            "\u001b[0;31mInvalidArgumentError\u001b[0m: Graph execution error:\n\nDetected at node 'sequential_3/dense_4/Relu' defined at (most recent call last):\n    File \"/usr/lib/python3.10/runpy.py\", line 196, in _run_module_as_main\n      return _run_code(code, main_globals, None,\n    File \"/usr/lib/python3.10/runpy.py\", line 86, in _run_code\n      exec(code, run_globals)\n    File \"/usr/local/lib/python3.10/dist-packages/colab_kernel_launcher.py\", line 37, in <module>\n      ColabKernelApp.launch_instance()\n    File \"/usr/local/lib/python3.10/dist-packages/traitlets/config/application.py\", line 992, in launch_instance\n      app.start()\n    File \"/usr/local/lib/python3.10/dist-packages/ipykernel/kernelapp.py\", line 619, in start\n      self.io_loop.start()\n    File \"/usr/local/lib/python3.10/dist-packages/tornado/platform/asyncio.py\", line 195, in start\n      self.asyncio_loop.run_forever()\n    File \"/usr/lib/python3.10/asyncio/base_events.py\", line 603, in run_forever\n      self._run_once()\n    File \"/usr/lib/python3.10/asyncio/base_events.py\", line 1909, in _run_once\n      handle._run()\n    File \"/usr/lib/python3.10/asyncio/events.py\", line 80, in _run\n      self._context.run(self._callback, *self._args)\n    File \"/usr/local/lib/python3.10/dist-packages/tornado/ioloop.py\", line 685, in <lambda>\n      lambda f: self._run_callback(functools.partial(callback, future))\n    File \"/usr/local/lib/python3.10/dist-packages/tornado/ioloop.py\", line 738, in _run_callback\n      ret = callback()\n    File \"/usr/local/lib/python3.10/dist-packages/tornado/gen.py\", line 825, in inner\n      self.ctx_run(self.run)\n    File \"/usr/local/lib/python3.10/dist-packages/tornado/gen.py\", line 786, in run\n      yielded = self.gen.send(value)\n    File \"/usr/local/lib/python3.10/dist-packages/ipykernel/kernelbase.py\", line 361, in process_one\n      yield gen.maybe_future(dispatch(*args))\n    File \"/usr/local/lib/python3.10/dist-packages/tornado/gen.py\", line 234, in wrapper\n      yielded = ctx_run(next, result)\n    File \"/usr/local/lib/python3.10/dist-packages/ipykernel/kernelbase.py\", line 261, in dispatch_shell\n      yield gen.maybe_future(handler(stream, idents, msg))\n    File \"/usr/local/lib/python3.10/dist-packages/tornado/gen.py\", line 234, in wrapper\n      yielded = ctx_run(next, result)\n    File \"/usr/local/lib/python3.10/dist-packages/ipykernel/kernelbase.py\", line 539, in execute_request\n      self.do_execute(\n    File \"/usr/local/lib/python3.10/dist-packages/tornado/gen.py\", line 234, in wrapper\n      yielded = ctx_run(next, result)\n    File \"/usr/local/lib/python3.10/dist-packages/ipykernel/ipkernel.py\", line 302, in do_execute\n      res = shell.run_cell(code, store_history=store_history, silent=silent)\n    File \"/usr/local/lib/python3.10/dist-packages/ipykernel/zmqshell.py\", line 539, in run_cell\n      return super(ZMQInteractiveShell, self).run_cell(*args, **kwargs)\n    File \"/usr/local/lib/python3.10/dist-packages/IPython/core/interactiveshell.py\", line 2975, in run_cell\n      result = self._run_cell(\n    File \"/usr/local/lib/python3.10/dist-packages/IPython/core/interactiveshell.py\", line 3030, in _run_cell\n      return runner(coro)\n    File \"/usr/local/lib/python3.10/dist-packages/IPython/core/async_helpers.py\", line 78, in _pseudo_sync_runner\n      coro.send(None)\n    File \"/usr/local/lib/python3.10/dist-packages/IPython/core/interactiveshell.py\", line 3257, in run_cell_async\n      has_raised = await self.run_ast_nodes(code_ast.body, cell_name,\n    File \"/usr/local/lib/python3.10/dist-packages/IPython/core/interactiveshell.py\", line 3473, in run_ast_nodes\n      if (await self.run_code(code, result,  async_=asy)):\n    File \"/usr/local/lib/python3.10/dist-packages/IPython/core/interactiveshell.py\", line 3553, in run_code\n      exec(code_obj, self.user_global_ns, self.user_ns)\n    File \"<ipython-input-73-cc09e26e55a3>\", line 2, in <cell line: 2>\n      history = model.fit(train_generator,epochs=epochs)\n    File \"/usr/local/lib/python3.10/dist-packages/keras/src/utils/traceback_utils.py\", line 65, in error_handler\n      return fn(*args, **kwargs)\n    File \"/usr/local/lib/python3.10/dist-packages/keras/src/engine/training.py\", line 1742, in fit\n      tmp_logs = self.train_function(iterator)\n    File \"/usr/local/lib/python3.10/dist-packages/keras/src/engine/training.py\", line 1338, in train_function\n      return step_function(self, iterator)\n    File \"/usr/local/lib/python3.10/dist-packages/keras/src/engine/training.py\", line 1322, in step_function\n      outputs = model.distribute_strategy.run(run_step, args=(data,))\n    File \"/usr/local/lib/python3.10/dist-packages/keras/src/engine/training.py\", line 1303, in run_step\n      outputs = model.train_step(data)\n    File \"/usr/local/lib/python3.10/dist-packages/keras/src/engine/training.py\", line 1080, in train_step\n      y_pred = self(x, training=True)\n    File \"/usr/local/lib/python3.10/dist-packages/keras/src/utils/traceback_utils.py\", line 65, in error_handler\n      return fn(*args, **kwargs)\n    File \"/usr/local/lib/python3.10/dist-packages/keras/src/engine/training.py\", line 569, in __call__\n      return super().__call__(*args, **kwargs)\n    File \"/usr/local/lib/python3.10/dist-packages/keras/src/utils/traceback_utils.py\", line 65, in error_handler\n      return fn(*args, **kwargs)\n    File \"/usr/local/lib/python3.10/dist-packages/keras/src/engine/base_layer.py\", line 1150, in __call__\n      outputs = call_fn(inputs, *args, **kwargs)\n    File \"/usr/local/lib/python3.10/dist-packages/keras/src/utils/traceback_utils.py\", line 96, in error_handler\n      return fn(*args, **kwargs)\n    File \"/usr/local/lib/python3.10/dist-packages/keras/src/engine/sequential.py\", line 405, in call\n      return super().call(inputs, training=training, mask=mask)\n    File \"/usr/local/lib/python3.10/dist-packages/keras/src/engine/functional.py\", line 512, in call\n      return self._run_internal_graph(inputs, training=training, mask=mask)\n    File \"/usr/local/lib/python3.10/dist-packages/keras/src/engine/functional.py\", line 669, in _run_internal_graph\n      outputs = node.layer(*args, **kwargs)\n    File \"/usr/local/lib/python3.10/dist-packages/keras/src/utils/traceback_utils.py\", line 65, in error_handler\n      return fn(*args, **kwargs)\n    File \"/usr/local/lib/python3.10/dist-packages/keras/src/engine/base_layer.py\", line 1150, in __call__\n      outputs = call_fn(inputs, *args, **kwargs)\n    File \"/usr/local/lib/python3.10/dist-packages/keras/src/utils/traceback_utils.py\", line 96, in error_handler\n      return fn(*args, **kwargs)\n    File \"/usr/local/lib/python3.10/dist-packages/keras/src/layers/core/dense.py\", line 255, in call\n      outputs = self.activation(outputs)\n    File \"/usr/local/lib/python3.10/dist-packages/keras/src/activations.py\", line 321, in relu\n      return backend.relu(\n    File \"/usr/local/lib/python3.10/dist-packages/keras/src/backend.py\", line 5397, in relu\n      x = tf.nn.relu(x)\nNode: 'sequential_3/dense_4/Relu'\nMatrix size-incompatible: In[0]: [32,2621440], In[1]: [262144,128]\n\t [[{{node sequential_3/dense_4/Relu}}]] [Op:__inference_train_function_4289]"
          ]
        }
      ]
    },
    {
      "cell_type": "code",
      "source": [],
      "metadata": {
        "id": "UtsvYVi9C7Gt"
      },
      "execution_count": null,
      "outputs": []
    }
  ]
}